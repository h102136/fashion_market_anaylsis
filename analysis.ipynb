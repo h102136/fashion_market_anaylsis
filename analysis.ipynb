{
 "cells": [
  {
   "cell_type": "code",
   "execution_count": 45,
   "id": "cef3ac10-d0c0-4a0a-b6d2-fe5188c7454a",
   "metadata": {},
   "outputs": [],
   "source": [
    "import pandas as pd\n",
    "sales = pd.read_csv('cleaned data/sales_c.csv', encoding = 'utf-8', dtype = {'Quantity':'Int8', 'Store ID':'Int8', 'Employee ID':'Int8'})\n",
    "group_sales = pd.read_csv('cleaned data/group_sales_c.csv', encoding = 'utf-8', dtype = {'Quantity':'Int8', 'Store ID':'Int8', 'Employee ID':'Int8'})\n",
    "customers = pd.read_csv('cleaned data/customers_c.csv', encoding = 'utf-8',\n",
    "                        usecols = ['Customer ID', 'Name', 'City', 'Gender', 'Date Of Birth'],\n",
    "                        dtype = {'Customer ID':'Int32', 'Gender':'category'})\n",
    "employees = pd.read_csv('cleaned data/employees_c.csv', encoding = 'utf-8', dtype = {'Employee ID':'Int16', 'Store ID':'Int8'})\n",
    "products = pd.read_csv('cleaned data/products_c.csv', encoding = 'utf-8', dtype = {'Product ID':'Int32', 'Category':'category'})\n",
    "stores = pd.read_csv('cleaned data/stores_c.csv', encoding = 'utf-8', dtype = {'Store ID':'Int8', 'Number of Employees':'Int8'})"
   ]
  },
  {
   "cell_type": "code",
   "execution_count": 46,
   "id": "45632d4e-fcec-4d1c-8c98-97ae50577a7b",
   "metadata": {},
   "outputs": [
    {
     "name": "stdout",
     "output_type": "stream",
     "text": [
      "<class 'pandas.core.frame.DataFrame'>\n",
      "RangeIndex: 436188 entries, 0 to 436187\n",
      "Data columns (total 11 columns):\n",
      " #   Column         Non-Null Count   Dtype  \n",
      "---  ------         --------------   -----  \n",
      " 0   Invoice ID     436188 non-null  object \n",
      " 1   Customer ID    436188 non-null  int64  \n",
      " 2   Product ID     436188 non-null  int64  \n",
      " 3   Unit Price     436188 non-null  float64\n",
      " 4   Quantity       436188 non-null  Int8   \n",
      " 5   Date           436188 non-null  object \n",
      " 6   Discount       436188 non-null  float64\n",
      " 7   Line Total     436188 non-null  float64\n",
      " 8   Store ID       436188 non-null  Int8   \n",
      " 9   Employee ID    436188 non-null  Int8   \n",
      " 10  Invoice Total  436188 non-null  float64\n",
      "dtypes: Int8(3), float64(4), int64(2), object(2)\n",
      "memory usage: 29.1+ MB\n"
     ]
    }
   ],
   "source": [
    "sales.info()"
   ]
  },
  {
   "cell_type": "code",
   "execution_count": 47,
   "id": "0efcee3f-a253-4470-8e65-b807a367b6b5",
   "metadata": {},
   "outputs": [
    {
     "data": {
      "text/html": [
       "<style type=\"text/css\">\n",
       "#T_80dff_row0_col0 {\n",
       "  background-color: #f7844e;\n",
       "  color: #f1f1f1;\n",
       "}\n",
       "#T_80dff_row0_col1, #T_80dff_row1_col1, #T_80dff_row2_col1 {\n",
       "  background-color: #a50026;\n",
       "  color: #f1f1f1;\n",
       "}\n",
       "#T_80dff_row0_col2, #T_80dff_row1_col3 {\n",
       "  background-color: #fdb768;\n",
       "  color: #000000;\n",
       "}\n",
       "#T_80dff_row0_col3 {\n",
       "  background-color: #fba05b;\n",
       "  color: #000000;\n",
       "}\n",
       "#T_80dff_row0_col4 {\n",
       "  background-color: #f36b42;\n",
       "  color: #f1f1f1;\n",
       "}\n",
       "#T_80dff_row0_col5, #T_80dff_row1_col6 {\n",
       "  background-color: #e14430;\n",
       "  color: #f1f1f1;\n",
       "}\n",
       "#T_80dff_row0_col6 {\n",
       "  background-color: #f57245;\n",
       "  color: #f1f1f1;\n",
       "}\n",
       "#T_80dff_row0_col7 {\n",
       "  background-color: #c62027;\n",
       "  color: #f1f1f1;\n",
       "}\n",
       "#T_80dff_row0_col8 {\n",
       "  background-color: #fffebe;\n",
       "  color: #000000;\n",
       "}\n",
       "#T_80dff_row0_col9 {\n",
       "  background-color: #fffbb8;\n",
       "  color: #000000;\n",
       "}\n",
       "#T_80dff_row0_col10 {\n",
       "  background-color: #fa9b58;\n",
       "  color: #000000;\n",
       "}\n",
       "#T_80dff_row0_col11, #T_80dff_row1_col11, #T_80dff_row2_col0 {\n",
       "  background-color: #006837;\n",
       "  color: #f1f1f1;\n",
       "}\n",
       "#T_80dff_row1_col0 {\n",
       "  background-color: #fca85e;\n",
       "  color: #000000;\n",
       "}\n",
       "#T_80dff_row1_col2 {\n",
       "  background-color: #fdfebc;\n",
       "  color: #000000;\n",
       "}\n",
       "#T_80dff_row1_col4 {\n",
       "  background-color: #fdb163;\n",
       "  color: #000000;\n",
       "}\n",
       "#T_80dff_row1_col5 {\n",
       "  background-color: #fa9857;\n",
       "  color: #000000;\n",
       "}\n",
       "#T_80dff_row1_col7 {\n",
       "  background-color: #f57748;\n",
       "  color: #f1f1f1;\n",
       "}\n",
       "#T_80dff_row1_col8 {\n",
       "  background-color: #e5f49b;\n",
       "  color: #000000;\n",
       "}\n",
       "#T_80dff_row1_col9 {\n",
       "  background-color: #d5ed88;\n",
       "  color: #000000;\n",
       "}\n",
       "#T_80dff_row1_col10 {\n",
       "  background-color: #fee491;\n",
       "  color: #000000;\n",
       "}\n",
       "#T_80dff_row2_col2, #T_80dff_row2_col3, #T_80dff_row2_col4, #T_80dff_row2_col5, #T_80dff_row2_col6, #T_80dff_row2_col7, #T_80dff_row2_col8, #T_80dff_row2_col9, #T_80dff_row2_col10, #T_80dff_row2_col11 {\n",
       "  background-color: #000000;\n",
       "  color: #f1f1f1;\n",
       "}\n",
       "</style>\n",
       "<table id=\"T_80dff\">\n",
       "  <thead>\n",
       "    <tr>\n",
       "      <th class=\"index_name level0\" >Month</th>\n",
       "      <th id=\"T_80dff_level0_col0\" class=\"col_heading level0 col0\" >1</th>\n",
       "      <th id=\"T_80dff_level0_col1\" class=\"col_heading level0 col1\" >2</th>\n",
       "      <th id=\"T_80dff_level0_col2\" class=\"col_heading level0 col2\" >3</th>\n",
       "      <th id=\"T_80dff_level0_col3\" class=\"col_heading level0 col3\" >4</th>\n",
       "      <th id=\"T_80dff_level0_col4\" class=\"col_heading level0 col4\" >5</th>\n",
       "      <th id=\"T_80dff_level0_col5\" class=\"col_heading level0 col5\" >6</th>\n",
       "      <th id=\"T_80dff_level0_col6\" class=\"col_heading level0 col6\" >7</th>\n",
       "      <th id=\"T_80dff_level0_col7\" class=\"col_heading level0 col7\" >8</th>\n",
       "      <th id=\"T_80dff_level0_col8\" class=\"col_heading level0 col8\" >9</th>\n",
       "      <th id=\"T_80dff_level0_col9\" class=\"col_heading level0 col9\" >10</th>\n",
       "      <th id=\"T_80dff_level0_col10\" class=\"col_heading level0 col10\" >11</th>\n",
       "      <th id=\"T_80dff_level0_col11\" class=\"col_heading level0 col11\" >12</th>\n",
       "    </tr>\n",
       "    <tr>\n",
       "      <th class=\"index_name level0\" >Year</th>\n",
       "      <th class=\"blank col0\" >&nbsp;</th>\n",
       "      <th class=\"blank col1\" >&nbsp;</th>\n",
       "      <th class=\"blank col2\" >&nbsp;</th>\n",
       "      <th class=\"blank col3\" >&nbsp;</th>\n",
       "      <th class=\"blank col4\" >&nbsp;</th>\n",
       "      <th class=\"blank col5\" >&nbsp;</th>\n",
       "      <th class=\"blank col6\" >&nbsp;</th>\n",
       "      <th class=\"blank col7\" >&nbsp;</th>\n",
       "      <th class=\"blank col8\" >&nbsp;</th>\n",
       "      <th class=\"blank col9\" >&nbsp;</th>\n",
       "      <th class=\"blank col10\" >&nbsp;</th>\n",
       "      <th class=\"blank col11\" >&nbsp;</th>\n",
       "    </tr>\n",
       "  </thead>\n",
       "  <tbody>\n",
       "    <tr>\n",
       "      <th id=\"T_80dff_level0_row0\" class=\"row_heading level0 row0\" >2023</th>\n",
       "      <td id=\"T_80dff_row0_col0\" class=\"data row0 col0\" >1.403140</td>\n",
       "      <td id=\"T_80dff_row0_col1\" class=\"data row0 col1\" >0.600021</td>\n",
       "      <td id=\"T_80dff_row0_col2\" class=\"data row0 col2\" >1.672474</td>\n",
       "      <td id=\"T_80dff_row0_col3\" class=\"data row0 col3\" >1.541252</td>\n",
       "      <td id=\"T_80dff_row0_col4\" class=\"data row0 col4\" >1.263241</td>\n",
       "      <td id=\"T_80dff_row0_col5\" class=\"data row0 col5\" >1.057276</td>\n",
       "      <td id=\"T_80dff_row0_col6\" class=\"data row0 col6\" >1.313178</td>\n",
       "      <td id=\"T_80dff_row0_col7\" class=\"data row0 col7\" >0.836403</td>\n",
       "      <td id=\"T_80dff_row0_col8\" class=\"data row0 col8\" >2.284253</td>\n",
       "      <td id=\"T_80dff_row0_col9\" class=\"data row0 col9\" >2.250397</td>\n",
       "      <td id=\"T_80dff_row0_col10\" class=\"data row0 col10\" >1.524134</td>\n",
       "      <td id=\"T_80dff_row0_col11\" class=\"data row0 col11\" >3.981947</td>\n",
       "    </tr>\n",
       "    <tr>\n",
       "      <th id=\"T_80dff_level0_row1\" class=\"row_heading level0 row1\" >2024</th>\n",
       "      <td id=\"T_80dff_row1_col0\" class=\"data row1 col0\" >1.254086</td>\n",
       "      <td id=\"T_80dff_row1_col1\" class=\"data row1 col1\" >0.481657</td>\n",
       "      <td id=\"T_80dff_row1_col2\" class=\"data row1 col2\" >1.821752</td>\n",
       "      <td id=\"T_80dff_row1_col3\" class=\"data row1 col3\" >1.320852</td>\n",
       "      <td id=\"T_80dff_row1_col4\" class=\"data row1 col4\" >1.288256</td>\n",
       "      <td id=\"T_80dff_row1_col5\" class=\"data row1 col5\" >1.188370</td>\n",
       "      <td id=\"T_80dff_row1_col6\" class=\"data row1 col6\" >0.842321</td>\n",
       "      <td id=\"T_80dff_row1_col7\" class=\"data row1 col7\" >1.058626</td>\n",
       "      <td id=\"T_80dff_row1_col8\" class=\"data row1 col8\" >1.982790</td>\n",
       "      <td id=\"T_80dff_row1_col9\" class=\"data row1 col9\" >2.081192</td>\n",
       "      <td id=\"T_80dff_row1_col10\" class=\"data row1 col10\" >1.566525</td>\n",
       "      <td id=\"T_80dff_row1_col11\" class=\"data row1 col11\" >3.121135</td>\n",
       "    </tr>\n",
       "    <tr>\n",
       "      <th id=\"T_80dff_level0_row2\" class=\"row_heading level0 row2\" >2025</th>\n",
       "      <td id=\"T_80dff_row2_col0\" class=\"data row2 col0\" >3.122089</td>\n",
       "      <td id=\"T_80dff_row2_col1\" class=\"data row2 col1\" >1.148892</td>\n",
       "      <td id=\"T_80dff_row2_col2\" class=\"data row2 col2\" >nan</td>\n",
       "      <td id=\"T_80dff_row2_col3\" class=\"data row2 col3\" >nan</td>\n",
       "      <td id=\"T_80dff_row2_col4\" class=\"data row2 col4\" >nan</td>\n",
       "      <td id=\"T_80dff_row2_col5\" class=\"data row2 col5\" >nan</td>\n",
       "      <td id=\"T_80dff_row2_col6\" class=\"data row2 col6\" >nan</td>\n",
       "      <td id=\"T_80dff_row2_col7\" class=\"data row2 col7\" >nan</td>\n",
       "      <td id=\"T_80dff_row2_col8\" class=\"data row2 col8\" >nan</td>\n",
       "      <td id=\"T_80dff_row2_col9\" class=\"data row2 col9\" >nan</td>\n",
       "      <td id=\"T_80dff_row2_col10\" class=\"data row2 col10\" >nan</td>\n",
       "      <td id=\"T_80dff_row2_col11\" class=\"data row2 col11\" >nan</td>\n",
       "    </tr>\n",
       "  </tbody>\n",
       "</table>\n"
      ],
      "text/plain": [
       "<pandas.io.formats.style.Styler at 0x13ae0d42850>"
      ]
     },
     "execution_count": 47,
     "metadata": {},
     "output_type": "execute_result"
    }
   ],
   "source": [
    "# analisis\n",
    "\n",
    "# total sale each months over years\n",
    "sales = sales.astype({'Date':'datetime64[ns]'})\n",
    "sales[['Line Total', 'Invoice Total']] = sales[['Line Total', 'Invoice Total']].round(2)\n",
    "((sales.pivot_table(index = [sales['Date'].dt.year], columns = [sales['Date'].dt.month], values = 'Invoice Total', aggfunc = 'sum')/1e6).\n",
    "        rename_axis(index='Year', columns='Month').\n",
    "# The purpose of dividing 1 million by the total amount is for an intuitive outcome    \n",
    "        style.background_gradient(cmap = 'RdYlGn', axis = 1))"
   ]
  },
  {
   "cell_type": "code",
   "execution_count": 48,
   "id": "63e3d19e-27e5-441e-a320-b2a0a20e9d6a",
   "metadata": {},
   "outputs": [
    {
     "data": {
      "text/plain": [
       "<Axes: title={'center': 'Peak of sales in a day'}, xlabel='Time (24-hour clock)', ylabel='Total sales(million)'>"
      ]
     },
     "execution_count": 48,
     "metadata": {},
     "output_type": "execute_result"
    },
    {
     "data": {
      "image/png": "[encoded data removed]",
      "text/plain": [
       "<Figure size 500x300 with 1 Axes>"
      ]
     },
     "metadata": {},
     "output_type": "display_data"
    }
   ],
   "source": [
    "# sales trend over time\n",
    "# total sales by time period\n",
    "(sales.groupby([sales['Date'].dt.hour])['Invoice Total'].sum()).plot(figsize = (5,3), title = 'Peak of sales in a day', xlabel = 'Time (24-hour clock)', ylabel = 'Total sales(million)')"
   ]
  },
  {
   "cell_type": "code",
   "execution_count": 49,
   "id": "b8e80f25-e4bc-4580-abc0-e0ae2703dec8",
   "metadata": {},
   "outputs": [
    {
     "data": {
      "text/html": [
       "<div>\n",
       "<style scoped>\n",
       "    .dataframe tbody tr th:only-of-type {\n",
       "        vertical-align: middle;\n",
       "    }\n",
       "\n",
       "    .dataframe tbody tr th {\n",
       "        vertical-align: top;\n",
       "    }\n",
       "\n",
       "    .dataframe thead th {\n",
       "        text-align: right;\n",
       "    }\n",
       "</style>\n",
       "<table border=\"1\" class=\"dataframe\">\n",
       "  <thead>\n",
       "    <tr style=\"text-align: right;\">\n",
       "      <th></th>\n",
       "      <th>Invoice ID</th>\n",
       "      <th>Customer ID</th>\n",
       "      <th>Product ID</th>\n",
       "      <th>Unit Price</th>\n",
       "      <th>Quantity</th>\n",
       "      <th>Date</th>\n",
       "      <th>Discount</th>\n",
       "      <th>Line Total</th>\n",
       "      <th>Store ID</th>\n",
       "      <th>Employee ID</th>\n",
       "      <th>Invoice Total</th>\n",
       "      <th>Category</th>\n",
       "      <th>Sub Category</th>\n",
       "      <th>Production Cost</th>\n",
       "    </tr>\n",
       "  </thead>\n",
       "  <tbody>\n",
       "    <tr>\n",
       "      <th>0</th>\n",
       "      <td>INV-US-001-04128642</td>\n",
       "      <td>268</td>\n",
       "      <td>1130</td>\n",
       "      <td>59.0</td>\n",
       "      <td>1</td>\n",
       "      <td>2023-01-01 20:23:00</td>\n",
       "      <td>0.4</td>\n",
       "      <td>35.4</td>\n",
       "      <td>1</td>\n",
       "      <td>5</td>\n",
       "      <td>144.9</td>\n",
       "      <td>Masculine</td>\n",
       "      <td>Coats and Blazers</td>\n",
       "      <td>42.21</td>\n",
       "    </tr>\n",
       "    <tr>\n",
       "      <th>1</th>\n",
       "      <td>INV-US-001-04128642</td>\n",
       "      <td>268</td>\n",
       "      <td>1694</td>\n",
       "      <td>34.5</td>\n",
       "      <td>1</td>\n",
       "      <td>2023-01-01 20:23:00</td>\n",
       "      <td>0.4</td>\n",
       "      <td>20.7</td>\n",
       "      <td>1</td>\n",
       "      <td>5</td>\n",
       "      <td>144.9</td>\n",
       "      <td>Feminine</td>\n",
       "      <td>Shirts and Blouses</td>\n",
       "      <td>5.66</td>\n",
       "    </tr>\n",
       "    <tr>\n",
       "      <th>2</th>\n",
       "      <td>INV-US-001-04128642</td>\n",
       "      <td>268</td>\n",
       "      <td>35</td>\n",
       "      <td>29.0</td>\n",
       "      <td>1</td>\n",
       "      <td>2023-01-01 20:23:00</td>\n",
       "      <td>0.4</td>\n",
       "      <td>17.4</td>\n",
       "      <td>1</td>\n",
       "      <td>5</td>\n",
       "      <td>144.9</td>\n",
       "      <td>Feminine</td>\n",
       "      <td>Sportswear</td>\n",
       "      <td>8.15</td>\n",
       "    </tr>\n",
       "    <tr>\n",
       "      <th>3</th>\n",
       "      <td>INV-US-001-04128642</td>\n",
       "      <td>268</td>\n",
       "      <td>1340</td>\n",
       "      <td>25.5</td>\n",
       "      <td>1</td>\n",
       "      <td>2023-01-01 20:23:00</td>\n",
       "      <td>0.4</td>\n",
       "      <td>15.3</td>\n",
       "      <td>1</td>\n",
       "      <td>5</td>\n",
       "      <td>144.9</td>\n",
       "      <td>Masculine</td>\n",
       "      <td>T-shirts and Polos</td>\n",
       "      <td>16.24</td>\n",
       "    </tr>\n",
       "    <tr>\n",
       "      <th>4</th>\n",
       "      <td>INV-US-001-04128642</td>\n",
       "      <td>268</td>\n",
       "      <td>2202</td>\n",
       "      <td>24.5</td>\n",
       "      <td>1</td>\n",
       "      <td>2023-01-01 20:23:00</td>\n",
       "      <td>0.4</td>\n",
       "      <td>14.7</td>\n",
       "      <td>1</td>\n",
       "      <td>5</td>\n",
       "      <td>144.9</td>\n",
       "      <td>Masculine</td>\n",
       "      <td>Sportswear</td>\n",
       "      <td>3.73</td>\n",
       "    </tr>\n",
       "  </tbody>\n",
       "</table>\n",
       "</div>"
      ],
      "text/plain": [
       "            Invoice ID  Customer ID  Product ID  Unit Price  Quantity  \\\n",
       "0  INV-US-001-04128642          268        1130        59.0         1   \n",
       "1  INV-US-001-04128642          268        1694        34.5         1   \n",
       "2  INV-US-001-04128642          268          35        29.0         1   \n",
       "3  INV-US-001-04128642          268        1340        25.5         1   \n",
       "4  INV-US-001-04128642          268        2202        24.5         1   \n",
       "\n",
       "                 Date  Discount  Line Total  Store ID  Employee ID  \\\n",
       "0 2023-01-01 20:23:00       0.4        35.4         1            5   \n",
       "1 2023-01-01 20:23:00       0.4        20.7         1            5   \n",
       "2 2023-01-01 20:23:00       0.4        17.4         1            5   \n",
       "3 2023-01-01 20:23:00       0.4        15.3         1            5   \n",
       "4 2023-01-01 20:23:00       0.4        14.7         1            5   \n",
       "\n",
       "   Invoice Total   Category        Sub Category  Production Cost  \n",
       "0          144.9  Masculine   Coats and Blazers            42.21  \n",
       "1          144.9   Feminine  Shirts and Blouses             5.66  \n",
       "2          144.9   Feminine          Sportswear             8.15  \n",
       "3          144.9  Masculine  T-shirts and Polos            16.24  \n",
       "4          144.9  Masculine          Sportswear             3.73  "
      ]
     },
     "execution_count": 49,
     "metadata": {},
     "output_type": "execute_result"
    }
   ],
   "source": [
    "# product performance\n",
    "# merge two table 'sales' and 'products' for the favoring of analysis\n",
    "s_p = sales.merge(products, how = 'inner', left_on = 'Product ID', right_on = 'Product ID')\n",
    "s_p.head()"
   ]
  },
  {
   "cell_type": "code",
   "execution_count": 50,
   "id": "43b8d138-31ca-4a6d-948b-6e8b4bb7db86",
   "metadata": {},
   "outputs": [
    {
     "data": {
      "text/plain": [
       "Product ID  Sub Category      \n",
       "13798       Sportswear            122\n",
       "13642       Sportswear            121\n",
       "14341       Shirts                120\n",
       "12680       Sportswear            118\n",
       "12186       Sportswear            117\n",
       "14370       Sportswear            116\n",
       "13899       Shirts                115\n",
       "14444       T-shirts and Polos    114\n",
       "13460       Sportswear            113\n",
       "14080       T-shirts and Polos    113\n",
       "Name: Quantity, dtype: Int8"
      ]
     },
     "execution_count": 50,
     "metadata": {},
     "output_type": "execute_result"
    }
   ],
   "source": [
    "# the top 10 popular products\n",
    "s_p.groupby(['Product ID', 'Sub Category'])['Quantity'].sum().sort_values(ascending = False).head(10)"
   ]
  },
  {
   "cell_type": "code",
   "execution_count": 51,
   "id": "9941a618-f715-4ea1-a7a4-76f780f42d93",
   "metadata": {},
   "outputs": [
    {
     "data": {
      "text/plain": [
       "Product ID  Sub Category     \n",
       "7583        Suits and Blazers    7369.95\n",
       "13641       Suits and Blazers    6357.68\n",
       "14083       Suits and Blazers    6348.96\n",
       "12596       Coats and Blazers    5945.50\n",
       "12003       Suits and Blazers    5918.70\n",
       "12748       Suits and Sets       5713.65\n",
       "8207        Suits and Blazers    5676.02\n",
       "14109       Suits and Blazers    5533.27\n",
       "13537       Suits and Blazers    5392.59\n",
       "12574       Pants and Jeans      5385.97\n",
       "Name: Total Profit, dtype: float64"
      ]
     },
     "execution_count": 51,
     "metadata": {},
     "output_type": "execute_result"
    }
   ],
   "source": [
    "# 10 most profitable products\n",
    "s_p['Total Profit'] =s_p.apply(lambda x:(x['Line Total']-(x['Production Cost']*x['Quantity'])), axis = 1)\n",
    "s_p.groupby(['Product ID', 'Sub Category'])['Total Profit'].sum().sort_values(ascending = False).head(10)"
   ]
  },
  {
   "cell_type": "code",
   "execution_count": 52,
   "id": "9b24f08c-cc66-4961-a8cf-51c6a8135302",
   "metadata": {},
   "outputs": [
    {
     "data": {
      "text/plain": [
       "Product ID  Sub Category     \n",
       "355         Suits and Blazers   -300.64\n",
       "1256        Suits and Sets      -259.98\n",
       "1655        Suits and Blazers   -257.66\n",
       "381         Suits and Blazers   -223.56\n",
       "2045        Suits and Blazers   -177.14\n",
       "199         Suits and Blazers   -174.34\n",
       "554         Suits and Sets      -169.81\n",
       "1525        Suits and Blazers   -168.34\n",
       "2939        Coats and Blazers   -168.32\n",
       "200         Sportswear          -163.90\n",
       "Name: Total Profit, dtype: float64"
      ]
     },
     "execution_count": 52,
     "metadata": {},
     "output_type": "execute_result"
    }
   ],
   "source": [
    "# 10 most unprofitable products\n",
    "s_p.groupby(['Product ID', 'Sub Category'])['Total Profit'].sum().sort_values().head(10)"
   ]
  },
  {
   "cell_type": "code",
   "execution_count": 53,
   "id": "55c43b13-4072-419c-8dfa-c8a63f537bb7",
   "metadata": {},
   "outputs": [
    {
     "data": {
      "text/plain": [
       "<Axes: title={'center': 'Totoal profit each month'}, ylabel='Total Profit (million)'>"
      ]
     },
     "execution_count": 53,
     "metadata": {},
     "output_type": "execute_result"
    },
    {
     "data": {
      "image/png": "[encoded data removed]",
      "text/plain": [
       "<Figure size 640x480 with 1 Axes>"
      ]
     },
     "metadata": {},
     "output_type": "display_data"
    }
   ],
   "source": [
    "# profit of each month\n",
    "s_p.groupby([s_p['Date'].dt.year, s_p['Date'].dt.month])['Total Profit'].sum().plot.bar(title = 'Totoal profit each month', xlabel = '', ylabel = 'Total Profit (million)')"
   ]
  },
  {
   "cell_type": "code",
   "execution_count": 54,
   "id": "267dc3f1-4d19-43bb-8f92-a6adf3ac8a18",
   "metadata": {},
   "outputs": [
    {
     "data": {
      "text/plain": [
       "Sub Category       Product ID\n",
       "Suits and Blazers  3189          876.42\n",
       "Coats and Blazers  4302          835.56\n",
       "Suits and Sets     4038          832.72\n",
       "Suits and Blazers  3735          760.10\n",
       "                   4697          738.85\n",
       "Name: Total Profit, dtype: float64"
      ]
     },
     "execution_count": 54,
     "metadata": {},
     "output_type": "execute_result"
    }
   ],
   "source": [
    "# 5 most profitable product in Sep 2023\n",
    "s_p.loc[(s_p['Date'].dt.year == 2023) & (s_p['Date'].dt.month == 8)].groupby(['Sub Category','Product ID'])['Total Profit'].sum().sort_values(ascending = False).head()"
   ]
  },
  {
   "cell_type": "code",
   "execution_count": 55,
   "id": "b061e9f0-f0ca-472b-af29-53077315184e",
   "metadata": {
    "scrolled": true
   },
   "outputs": [
    {
     "data": {
      "text/html": [
       "<div>\n",
       "<style scoped>\n",
       "    .dataframe tbody tr th:only-of-type {\n",
       "        vertical-align: middle;\n",
       "    }\n",
       "\n",
       "    .dataframe tbody tr th {\n",
       "        vertical-align: top;\n",
       "    }\n",
       "\n",
       "    .dataframe thead th {\n",
       "        text-align: right;\n",
       "    }\n",
       "</style>\n",
       "<table border=\"1\" class=\"dataframe\">\n",
       "  <thead>\n",
       "    <tr style=\"text-align: right;\">\n",
       "      <th></th>\n",
       "      <th></th>\n",
       "      <th></th>\n",
       "      <th>Total Profit</th>\n",
       "    </tr>\n",
       "    <tr>\n",
       "      <th>Employee ID</th>\n",
       "      <th>Store ID_x</th>\n",
       "      <th>Name</th>\n",
       "      <th></th>\n",
       "    </tr>\n",
       "  </thead>\n",
       "  <tbody>\n",
       "    <tr>\n",
       "      <th>2</th>\n",
       "      <th>1</th>\n",
       "      <th>Gabriel Cunningham</th>\n",
       "      <td>2305239.63</td>\n",
       "    </tr>\n",
       "    <tr>\n",
       "      <th>3</th>\n",
       "      <th>1</th>\n",
       "      <th>Timothy Fernandez</th>\n",
       "      <td>2276107.76</td>\n",
       "    </tr>\n",
       "    <tr>\n",
       "      <th>4</th>\n",
       "      <th>1</th>\n",
       "      <th>Natalie Rogers</th>\n",
       "      <td>2264375.33</td>\n",
       "    </tr>\n",
       "    <tr>\n",
       "      <th>5</th>\n",
       "      <th>1</th>\n",
       "      <th>Elizabeth Cantrell</th>\n",
       "      <td>2254691.51</td>\n",
       "    </tr>\n",
       "    <tr>\n",
       "      <th>6</th>\n",
       "      <th>1</th>\n",
       "      <th>Melissa Tran</th>\n",
       "      <td>2275585.95</td>\n",
       "    </tr>\n",
       "  </tbody>\n",
       "</table>\n",
       "</div>"
      ],
      "text/plain": [
       "                                           Total Profit\n",
       "Employee ID Store ID_x Name                            \n",
       "2           1          Gabriel Cunningham    2305239.63\n",
       "3           1          Timothy Fernandez     2276107.76\n",
       "4           1          Natalie Rogers        2264375.33\n",
       "5           1          Elizabeth Cantrell    2254691.51\n",
       "6           1          Melissa Tran          2275585.95"
      ]
     },
     "execution_count": 55,
     "metadata": {},
     "output_type": "execute_result"
    }
   ],
   "source": [
    "# employees perform\n",
    "s_p_e = s_p.merge(employees, how = 'inner', left_on = 'Employee ID', right_on = 'Employee ID')\n",
    "s_p_e.groupby(['Employee ID','Store ID_x','Name']).agg({'Total Profit':'sum'})"
   ]
  },
  {
   "cell_type": "code",
   "execution_count": 56,
   "id": "c00c0fcf-2ff6-4341-be47-37b003a49084",
   "metadata": {},
   "outputs": [
    {
     "name": "stderr",
     "output_type": "stream",
     "text": [
      "C:\\Users\\123\\AppData\\Local\\Temp\\ipykernel_36688\\457328901.py:3: FutureWarning: The default of observed=False is deprecated and will be changed to True in a future version of pandas. Pass observed=False to retain current behavior or observed=True to adopt the future default and silence this warning.\n",
      "  purchase_times = gs_c.groupby(['Customer ID', 'Gender']).agg({'Invoice ID':'count', 'Invoice Total':'sum'})\n"
     ]
    },
    {
     "data": {
      "text/html": [
       "<div>\n",
       "<style scoped>\n",
       "    .dataframe tbody tr th:only-of-type {\n",
       "        vertical-align: middle;\n",
       "    }\n",
       "\n",
       "    .dataframe tbody tr th {\n",
       "        vertical-align: top;\n",
       "    }\n",
       "\n",
       "    .dataframe thead th {\n",
       "        text-align: right;\n",
       "    }\n",
       "</style>\n",
       "<table border=\"1\" class=\"dataframe\">\n",
       "  <thead>\n",
       "    <tr style=\"text-align: right;\">\n",
       "      <th></th>\n",
       "      <th></th>\n",
       "      <th>Purchase times</th>\n",
       "      <th>Invoice Total</th>\n",
       "    </tr>\n",
       "    <tr>\n",
       "      <th>Customer ID</th>\n",
       "      <th>Gender</th>\n",
       "      <th></th>\n",
       "      <th></th>\n",
       "    </tr>\n",
       "  </thead>\n",
       "  <tbody>\n",
       "    <tr>\n",
       "      <th>47005</th>\n",
       "      <th>F</th>\n",
       "      <td>24</td>\n",
       "      <td>1400.65</td>\n",
       "    </tr>\n",
       "    <tr>\n",
       "      <th>37304</th>\n",
       "      <th>F</th>\n",
       "      <td>23</td>\n",
       "      <td>1436.83</td>\n",
       "    </tr>\n",
       "    <tr>\n",
       "      <th>20159</th>\n",
       "      <th>F</th>\n",
       "      <td>23</td>\n",
       "      <td>1459.53</td>\n",
       "    </tr>\n",
       "    <tr>\n",
       "      <th>6520</th>\n",
       "      <th>F</th>\n",
       "      <td>22</td>\n",
       "      <td>963.36</td>\n",
       "    </tr>\n",
       "    <tr>\n",
       "      <th>15084</th>\n",
       "      <th>F</th>\n",
       "      <td>22</td>\n",
       "      <td>1691.61</td>\n",
       "    </tr>\n",
       "    <tr>\n",
       "      <th>16632</th>\n",
       "      <th>F</th>\n",
       "      <td>22</td>\n",
       "      <td>1090.40</td>\n",
       "    </tr>\n",
       "    <tr>\n",
       "      <th>10005</th>\n",
       "      <th>F</th>\n",
       "      <td>22</td>\n",
       "      <td>1458.60</td>\n",
       "    </tr>\n",
       "    <tr>\n",
       "      <th>6130</th>\n",
       "      <th>F</th>\n",
       "      <td>21</td>\n",
       "      <td>927.60</td>\n",
       "    </tr>\n",
       "    <tr>\n",
       "      <th>9610</th>\n",
       "      <th>F</th>\n",
       "      <td>21</td>\n",
       "      <td>1495.35</td>\n",
       "    </tr>\n",
       "    <tr>\n",
       "      <th>13305</th>\n",
       "      <th>F</th>\n",
       "      <td>21</td>\n",
       "      <td>1025.60</td>\n",
       "    </tr>\n",
       "  </tbody>\n",
       "</table>\n",
       "</div>"
      ],
      "text/plain": [
       "                    Purchase times  Invoice Total\n",
       "Customer ID Gender                               \n",
       "47005       F                   24        1400.65\n",
       "37304       F                   23        1436.83\n",
       "20159       F                   23        1459.53\n",
       "6520        F                   22         963.36\n",
       "15084       F                   22        1691.61\n",
       "16632       F                   22        1090.40\n",
       "10005       F                   22        1458.60\n",
       "6130        F                   21         927.60\n",
       "9610        F                   21        1495.35\n",
       "13305       F                   21        1025.60"
      ]
     },
     "execution_count": 56,
     "metadata": {},
     "output_type": "execute_result"
    }
   ],
   "source": [
    "# the most frequent customers and their average spending\n",
    "gs_c = group_sales.merge(customers, how = 'inner', on = 'Customer ID')\n",
    "purchase_times = gs_c.groupby(['Customer ID', 'Gender']).agg({'Invoice ID':'count', 'Invoice Total':'sum'})\n",
    "purchase_times.rename(columns = {'Invoice ID':'Purchase times'}, inplace = True)\n",
    "purchase_times.sort_values(['Purchase times'], ascending = False).head(10)"
   ]
  },
  {
   "cell_type": "code",
   "execution_count": 57,
   "id": "d40df25c-f1d5-4b25-af7f-1a95c7be5be6",
   "metadata": {},
   "outputs": [
    {
     "data": {
      "text/plain": [
       "<Axes: title={'center': 'Most popular product among the top 100 frequent customers'}, ylabel='Quantity'>"
      ]
     },
     "execution_count": 57,
     "metadata": {},
     "output_type": "execute_result"
    },
    {
     "data": {
      "image/png": "[encoded data removed]",
      "text/plain": [
       "<Figure size 1000x600 with 1 Axes>"
      ]
     },
     "metadata": {},
     "output_type": "display_data"
    }
   ],
   "source": [
    "# Most popular product among the top 100 frequent customers\n",
    "\n",
    "# the most 100 frequent consumers\n",
    "best100 = purchase_times.sort_values('Purchase times', ascending = False).reset_index().head(100)\n",
    "# append customer id to a list \n",
    "best100list = best100['Customer ID'].tolist()\n",
    "# merge sales and products \n",
    "s_p = sales.merge(products, how = 'inner', left_on = 'Product ID', right_on = 'Product ID')\n",
    "# count the most 5 popular subcategory\n",
    "s_p.loc[s_p['Customer ID'].isin(best100list)].value_counts('Sub Category').plot.bar(figsize = (10,6),title = 'Most popular product among the top 100 frequent customers', xlabel = '', ylabel = 'Quantity')"
   ]
  },
  {
   "cell_type": "code",
   "execution_count": 58,
   "id": "d723c5d5-ec90-4968-8a3e-944ebb017195",
   "metadata": {},
   "outputs": [
    {
     "name": "stderr",
     "output_type": "stream",
     "text": [
      "C:\\Users\\123\\AppData\\Local\\Temp\\ipykernel_36688\\4030331245.py:4: FutureWarning: The default of observed=False is deprecated and will be changed to True in a future version of pandas. Pass observed=False to retain current behavior or observed=True to adopt the future default and silence this warning.\n",
      "  gs_c.groupby('Gender')['Invoice Total'].mean().plot.bar(figsize = (3,3), color = ['yellow', 'pink', 'blue'])\n"
     ]
    },
    {
     "data": {
      "text/plain": [
       "<Axes: xlabel='Gender'>"
      ]
     },
     "execution_count": 58,
     "metadata": {},
     "output_type": "execute_result"
    },
    {
     "data": {
      "image/png": "[encoded data removed]",
      "text/plain": [
       "<Figure size 300x300 with 1 Axes>"
      ]
     },
     "metadata": {},
     "output_type": "display_data"
    }
   ],
   "source": [
    "# gender-based purchasing pattern\n",
    "# average spending of order by gender-based\n",
    "gs_c = group_sales.merge(customers, how = 'inner', on = 'Customer ID')\n",
    "gs_c.groupby('Gender')['Invoice Total'].mean().plot.bar(figsize = (3,3), color = ['yellow', 'pink', 'blue'])"
   ]
  },
  {
   "cell_type": "code",
   "execution_count": 59,
   "id": "bb784ebb-da11-42ec-aada-29150bf4dd38",
   "metadata": {},
   "outputs": [
    {
     "data": {
      "image/png": "[encoded data removed]",
      "text/plain": [
       "<Figure size 300x300 with 1 Axes>"
      ]
     },
     "metadata": {},
     "output_type": "display_data"
    }
   ],
   "source": [
    "# calculate the age of customers\n",
    "import datetime\n",
    "customers = customers.astype({'Date Of Birth':'datetime64[ns]'})\n",
    "current = datetime.datetime.now()\n",
    "customers['Age'] = customers.apply(lambda x:(current.year) - (x['Date Of Birth'].year), axis = 1)\n",
    "\n",
    "# range of age \n",
    "bins = [0, 20, 30, 40, 50, 60, 100]  # range\n",
    "labels = ['Under 20', '21-30', '31-40', '41-50', '51-60', '61+'] \n",
    "\n",
    "customers['Age Group'] = pd.cut(customers['Age'], bins=bins, labels=labels, right=False)\n",
    "customers['Age Group'].value_counts().plot.bar(figsize = (3,3), title = 'Age Range of Customers', xlabel = '')\n",
    "\n",
    "# merge 'customers' and 'group_sales' for analysis in Power BI\n",
    "gs_c = group_sales.merge(customers, how = 'inner', on = 'Customer ID')\n",
    "gs_c.to_csv('cleaned data/gs_c.csv', encoding = 'utf-8', index = False)"
   ]
  },
  {
   "cell_type": "code",
   "execution_count": 60,
   "id": "efac5a32-86d0-43b4-b42e-b49f519c1016",
   "metadata": {},
   "outputs": [
    {
     "name": "stderr",
     "output_type": "stream",
     "text": [
      "C:\\Users\\123\\AppData\\Local\\Temp\\ipykernel_36688\\1499686756.py:2: FutureWarning: The default of observed=False is deprecated and will be changed to True in a future version of pandas. Pass observed=False to retain current behavior or observed=True to adopt the future default and silence this warning.\n",
      "  gs_c.groupby('Age Group')['Invoice Total'].mean().plot(figsize = (3,3))\n"
     ]
    },
    {
     "data": {
      "text/plain": [
       "<Axes: xlabel='Age Group'>"
      ]
     },
     "execution_count": 60,
     "metadata": {},
     "output_type": "execute_result"
    },
    {
     "data": {
      "image/png": "[encoded data removed]",
      "text/plain": [
       "<Figure size 300x300 with 1 Axes>"
      ]
     },
     "metadata": {},
     "output_type": "display_data"
    }
   ],
   "source": [
    "# average amount of order by age range\n",
    "gs_c.groupby('Age Group')['Invoice Total'].mean().plot(figsize = (3,3))"
   ]
  }
 ],
 "metadata": {
  "kernelspec": {
   "display_name": "Python 3 (ipykernel)",
   "language": "python",
   "name": "python3"
  },
  "language_info": {
   "codemirror_mode": {
    "name": "ipython",
    "version": 3
   },
   "file_extension": ".py",
   "mimetype": "text/x-python",
   "name": "python",
   "nbconvert_exporter": "python",
   "pygments_lexer": "ipython3",
   "version": "3.13.0"
  }
 },
 "nbformat": 4,
 "nbformat_minor": 5
}
