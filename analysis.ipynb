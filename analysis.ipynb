{
 "cells": [
  {
   "cell_type": "code",
   "execution_count": 238,
   "id": "cef3ac10-d0c0-4a0a-b6d2-fe5188c7454a",
   "metadata": {},
   "outputs": [],
   "source": [
    "import pandas as pd\n",
    "sales = pd.read_csv('sales_c.csv', encoding = 'utf-8', dtype = {'Quantity':'Int8', 'Store ID':'Int8', 'Employee ID':'Int8'})\n",
    "group_sales = pd.read_csv('group_sales_c.csv', encoding = 'utf-8', dtype = {'Quantity':'Int8', 'Store ID':'Int8', 'Employee ID':'Int8'})\n",
    "customers = pd.read_csv('customers_c.csv', encoding = 'utf-8', dtype = {'Customer ID':'Int32', 'Gender':'category'})\n",
    "employees = pd.read_csv('employees_c.csv', encoding = 'utf-8', dtype = {'Employee ID':'Int16', 'Store ID':'Int8'})\n",
    "products = pd.read_csv('products_c.csv', encoding = 'utf-8', dtype = {'Product ID':'Int32', 'Category':'category'})\n",
    "stores = pd.read_csv('stores_c.csv', encoding = 'utf-8', dtype = {'Store ID':'Int8', 'Number of Employees':'Int8'})"
   ]
  },
  {
   "cell_type": "code",
   "execution_count": 239,
   "id": "45632d4e-fcec-4d1c-8c98-97ae50577a7b",
   "metadata": {},
   "outputs": [
    {
     "name": "stdout",
     "output_type": "stream",
     "text": [
      "<class 'pandas.core.frame.DataFrame'>\n",
      "RangeIndex: 600000 entries, 0 to 599999\n",
      "Data columns (total 11 columns):\n",
      " #   Column         Non-Null Count   Dtype  \n",
      "---  ------         --------------   -----  \n",
      " 0   Invoice ID     600000 non-null  object \n",
      " 1   Customer ID    600000 non-null  int64  \n",
      " 2   Product ID     600000 non-null  int64  \n",
      " 3   Unit Price     600000 non-null  float64\n",
      " 4   Quantity       600000 non-null  Int8   \n",
      " 5   Date           600000 non-null  object \n",
      " 6   Discount       600000 non-null  float64\n",
      " 7   Line Total     600000 non-null  float64\n",
      " 8   Store ID       600000 non-null  Int8   \n",
      " 9   Employee ID    600000 non-null  Int8   \n",
      " 10  Invoice Total  600000 non-null  float64\n",
      "dtypes: Int8(3), float64(4), int64(2), object(2)\n",
      "memory usage: 40.1+ MB\n"
     ]
    }
   ],
   "source": [
    "sales.info()"
   ]
  },
  {
   "cell_type": "code",
   "execution_count": 240,
   "id": "0efcee3f-a253-4470-8e65-b807a367b6b5",
   "metadata": {},
   "outputs": [
    {
     "data": {
      "text/html": [
       "<style type=\"text/css\">\n",
       "#T_b0026_row0_col0 {\n",
       "  background-color: #f2faae;\n",
       "  color: #000000;\n",
       "}\n",
       "#T_b0026_row0_col1, #T_b0026_row1_col1, #T_b0026_row2_col1 {\n",
       "  background-color: #a50026;\n",
       "  color: #f1f1f1;\n",
       "}\n",
       "#T_b0026_row0_col2 {\n",
       "  background-color: #89cc67;\n",
       "  color: #000000;\n",
       "}\n",
       "#T_b0026_row0_col3 {\n",
       "  background-color: #e8f59f;\n",
       "  color: #000000;\n",
       "}\n",
       "#T_b0026_row0_col4 {\n",
       "  background-color: #fee08b;\n",
       "  color: #000000;\n",
       "}\n",
       "#T_b0026_row0_col5 {\n",
       "  background-color: #fdc776;\n",
       "  color: #000000;\n",
       "}\n",
       "#T_b0026_row0_col6 {\n",
       "  background-color: #fecc7b;\n",
       "  color: #000000;\n",
       "}\n",
       "#T_b0026_row0_col7 {\n",
       "  background-color: #e0422f;\n",
       "  color: #f1f1f1;\n",
       "}\n",
       "#T_b0026_row0_col8, #T_b0026_row1_col11, #T_b0026_row2_col0 {\n",
       "  background-color: #006837;\n",
       "  color: #f1f1f1;\n",
       "}\n",
       "#T_b0026_row0_col9 {\n",
       "  background-color: #fffab6;\n",
       "  color: #000000;\n",
       "}\n",
       "#T_b0026_row0_col10 {\n",
       "  background-color: #a90426;\n",
       "  color: #f1f1f1;\n",
       "}\n",
       "#T_b0026_row0_col11 {\n",
       "  background-color: #96d268;\n",
       "  color: #000000;\n",
       "}\n",
       "#T_b0026_row1_col0 {\n",
       "  background-color: #fca85e;\n",
       "  color: #000000;\n",
       "}\n",
       "#T_b0026_row1_col2 {\n",
       "  background-color: #fdfebc;\n",
       "  color: #000000;\n",
       "}\n",
       "#T_b0026_row1_col3 {\n",
       "  background-color: #fdb768;\n",
       "  color: #000000;\n",
       "}\n",
       "#T_b0026_row1_col4 {\n",
       "  background-color: #fdb163;\n",
       "  color: #000000;\n",
       "}\n",
       "#T_b0026_row1_col5 {\n",
       "  background-color: #fa9857;\n",
       "  color: #000000;\n",
       "}\n",
       "#T_b0026_row1_col6 {\n",
       "  background-color: #e14430;\n",
       "  color: #f1f1f1;\n",
       "}\n",
       "#T_b0026_row1_col7 {\n",
       "  background-color: #f57748;\n",
       "  color: #f1f1f1;\n",
       "}\n",
       "#T_b0026_row1_col8 {\n",
       "  background-color: #e5f49b;\n",
       "  color: #000000;\n",
       "}\n",
       "#T_b0026_row1_col9 {\n",
       "  background-color: #d5ed88;\n",
       "  color: #000000;\n",
       "}\n",
       "#T_b0026_row1_col10 {\n",
       "  background-color: #fee491;\n",
       "  color: #000000;\n",
       "}\n",
       "#T_b0026_row2_col2, #T_b0026_row2_col3, #T_b0026_row2_col4, #T_b0026_row2_col5, #T_b0026_row2_col6, #T_b0026_row2_col7, #T_b0026_row2_col8, #T_b0026_row2_col9, #T_b0026_row2_col10, #T_b0026_row2_col11 {\n",
       "  background-color: #000000;\n",
       "  color: #f1f1f1;\n",
       "}\n",
       "</style>\n",
       "<table id=\"T_b0026\">\n",
       "  <thead>\n",
       "    <tr>\n",
       "      <th class=\"index_name level0\" >Month</th>\n",
       "      <th id=\"T_b0026_level0_col0\" class=\"col_heading level0 col0\" >1</th>\n",
       "      <th id=\"T_b0026_level0_col1\" class=\"col_heading level0 col1\" >2</th>\n",
       "      <th id=\"T_b0026_level0_col2\" class=\"col_heading level0 col2\" >3</th>\n",
       "      <th id=\"T_b0026_level0_col3\" class=\"col_heading level0 col3\" >4</th>\n",
       "      <th id=\"T_b0026_level0_col4\" class=\"col_heading level0 col4\" >5</th>\n",
       "      <th id=\"T_b0026_level0_col5\" class=\"col_heading level0 col5\" >6</th>\n",
       "      <th id=\"T_b0026_level0_col6\" class=\"col_heading level0 col6\" >7</th>\n",
       "      <th id=\"T_b0026_level0_col7\" class=\"col_heading level0 col7\" >8</th>\n",
       "      <th id=\"T_b0026_level0_col8\" class=\"col_heading level0 col8\" >9</th>\n",
       "      <th id=\"T_b0026_level0_col9\" class=\"col_heading level0 col9\" >10</th>\n",
       "      <th id=\"T_b0026_level0_col10\" class=\"col_heading level0 col10\" >11</th>\n",
       "      <th id=\"T_b0026_level0_col11\" class=\"col_heading level0 col11\" >12</th>\n",
       "    </tr>\n",
       "    <tr>\n",
       "      <th class=\"index_name level0\" >Year</th>\n",
       "      <th class=\"blank col0\" >&nbsp;</th>\n",
       "      <th class=\"blank col1\" >&nbsp;</th>\n",
       "      <th class=\"blank col2\" >&nbsp;</th>\n",
       "      <th class=\"blank col3\" >&nbsp;</th>\n",
       "      <th class=\"blank col4\" >&nbsp;</th>\n",
       "      <th class=\"blank col5\" >&nbsp;</th>\n",
       "      <th class=\"blank col6\" >&nbsp;</th>\n",
       "      <th class=\"blank col7\" >&nbsp;</th>\n",
       "      <th class=\"blank col8\" >&nbsp;</th>\n",
       "      <th class=\"blank col9\" >&nbsp;</th>\n",
       "      <th class=\"blank col10\" >&nbsp;</th>\n",
       "      <th class=\"blank col11\" >&nbsp;</th>\n",
       "    </tr>\n",
       "  </thead>\n",
       "  <tbody>\n",
       "    <tr>\n",
       "      <th id=\"T_b0026_level0_row0\" class=\"row_heading level0 row0\" >2023</th>\n",
       "      <td id=\"T_b0026_row0_col0\" class=\"data row0 col0\" >3.326818</td>\n",
       "      <td id=\"T_b0026_row0_col1\" class=\"data row0 col1\" >1.491273</td>\n",
       "      <td id=\"T_b0026_row0_col2\" class=\"data row0 col2\" >4.045265</td>\n",
       "      <td id=\"T_b0026_row0_col3\" class=\"data row0 col3\" >3.415160</td>\n",
       "      <td id=\"T_b0026_row0_col4\" class=\"data row0 col4\" >2.865103</td>\n",
       "      <td id=\"T_b0026_row0_col5\" class=\"data row0 col5\" >2.686192</td>\n",
       "      <td id=\"T_b0026_row0_col6\" class=\"data row0 col6\" >2.728029</td>\n",
       "      <td id=\"T_b0026_row0_col7\" class=\"data row0 col7\" >1.935769</td>\n",
       "      <td id=\"T_b0026_row0_col8\" class=\"data row0 col8\" >4.922455</td>\n",
       "      <td id=\"T_b0026_row0_col9\" class=\"data row0 col9\" >3.141811</td>\n",
       "      <td id=\"T_b0026_row0_col10\" class=\"data row0 col10\" >1.524134</td>\n",
       "      <td id=\"T_b0026_row0_col11\" class=\"data row0 col11\" >3.981947</td>\n",
       "    </tr>\n",
       "    <tr>\n",
       "      <th id=\"T_b0026_level0_row1\" class=\"row_heading level0 row1\" >2024</th>\n",
       "      <td id=\"T_b0026_row1_col0\" class=\"data row1 col0\" >1.254086</td>\n",
       "      <td id=\"T_b0026_row1_col1\" class=\"data row1 col1\" >0.481657</td>\n",
       "      <td id=\"T_b0026_row1_col2\" class=\"data row1 col2\" >1.821752</td>\n",
       "      <td id=\"T_b0026_row1_col3\" class=\"data row1 col3\" >1.320852</td>\n",
       "      <td id=\"T_b0026_row1_col4\" class=\"data row1 col4\" >1.288256</td>\n",
       "      <td id=\"T_b0026_row1_col5\" class=\"data row1 col5\" >1.188370</td>\n",
       "      <td id=\"T_b0026_row1_col6\" class=\"data row1 col6\" >0.842321</td>\n",
       "      <td id=\"T_b0026_row1_col7\" class=\"data row1 col7\" >1.058626</td>\n",
       "      <td id=\"T_b0026_row1_col8\" class=\"data row1 col8\" >1.982790</td>\n",
       "      <td id=\"T_b0026_row1_col9\" class=\"data row1 col9\" >2.081192</td>\n",
       "      <td id=\"T_b0026_row1_col10\" class=\"data row1 col10\" >1.566525</td>\n",
       "      <td id=\"T_b0026_row1_col11\" class=\"data row1 col11\" >3.121135</td>\n",
       "    </tr>\n",
       "    <tr>\n",
       "      <th id=\"T_b0026_level0_row2\" class=\"row_heading level0 row2\" >2025</th>\n",
       "      <td id=\"T_b0026_row2_col0\" class=\"data row2 col0\" >3.122089</td>\n",
       "      <td id=\"T_b0026_row2_col1\" class=\"data row2 col1\" >1.148892</td>\n",
       "      <td id=\"T_b0026_row2_col2\" class=\"data row2 col2\" >nan</td>\n",
       "      <td id=\"T_b0026_row2_col3\" class=\"data row2 col3\" >nan</td>\n",
       "      <td id=\"T_b0026_row2_col4\" class=\"data row2 col4\" >nan</td>\n",
       "      <td id=\"T_b0026_row2_col5\" class=\"data row2 col5\" >nan</td>\n",
       "      <td id=\"T_b0026_row2_col6\" class=\"data row2 col6\" >nan</td>\n",
       "      <td id=\"T_b0026_row2_col7\" class=\"data row2 col7\" >nan</td>\n",
       "      <td id=\"T_b0026_row2_col8\" class=\"data row2 col8\" >nan</td>\n",
       "      <td id=\"T_b0026_row2_col9\" class=\"data row2 col9\" >nan</td>\n",
       "      <td id=\"T_b0026_row2_col10\" class=\"data row2 col10\" >nan</td>\n",
       "      <td id=\"T_b0026_row2_col11\" class=\"data row2 col11\" >nan</td>\n",
       "    </tr>\n",
       "  </tbody>\n",
       "</table>\n"
      ],
      "text/plain": [
       "<pandas.io.formats.style.Styler at 0x2bb2e156c10>"
      ]
     },
     "execution_count": 240,
     "metadata": {},
     "output_type": "execute_result"
    }
   ],
   "source": [
    "# analisis\n",
    "\n",
    "# total sale each months over years\n",
    "sales = sales.astype({'Date':'datetime64[ns]'})\n",
    "sales[['Line Total', 'Invoice Total']] = sales[['Line Total', 'Invoice Total']].round(2)\n",
    "((sales.pivot_table(index = [sales['Date'].dt.year], columns = [sales['Date'].dt.month], values = 'Invoice Total', aggfunc = 'sum')/1e6).\n",
    "        rename_axis(index='Year', columns='Month').\n",
    "# The purpose of dividing 1 million by the total amount is for an intuitive outcome    \n",
    "        style.background_gradient(cmap = 'RdYlGn', axis = 1))"
   ]
  },
  {
   "cell_type": "code",
   "execution_count": 241,
   "id": "63e3d19e-27e5-441e-a320-b2a0a20e9d6a",
   "metadata": {},
   "outputs": [
    {
     "data": {
      "text/plain": [
       "<Axes: title={'center': 'Peak of sales in a day'}, xlabel='Time (24-hour clock)', ylabel='Total sales(million)'>"
      ]
     },
     "execution_count": 241,
     "metadata": {},
     "output_type": "execute_result"
    },
    {
     "data": {
      "image/png": "[encoded data removed]",
      "text/plain": [
       "<Figure size 500x300 with 1 Axes>"
      ]
     },
     "metadata": {},
     "output_type": "display_data"
    }
   ],
   "source": [
    "# sales trend over time\n",
    "# total sales by time period\n",
    "(sales.groupby([sales['Date'].dt.hour])['Invoice Total'].sum()).plot(figsize = (5,3), title = 'Peak of sales in a day', xlabel = 'Time (24-hour clock)', ylabel = 'Total sales(million)')"
   ]
  },
  {
   "cell_type": "code",
   "execution_count": 242,
   "id": "b8e80f25-e4bc-4580-abc0-e0ae2703dec8",
   "metadata": {},
   "outputs": [
    {
     "data": {
      "text/html": [
       "<div>\n",
       "<style scoped>\n",
       "    .dataframe tbody tr th:only-of-type {\n",
       "        vertical-align: middle;\n",
       "    }\n",
       "\n",
       "    .dataframe tbody tr th {\n",
       "        vertical-align: top;\n",
       "    }\n",
       "\n",
       "    .dataframe thead th {\n",
       "        text-align: right;\n",
       "    }\n",
       "</style>\n",
       "<table border=\"1\" class=\"dataframe\">\n",
       "  <thead>\n",
       "    <tr style=\"text-align: right;\">\n",
       "      <th></th>\n",
       "      <th>Invoice ID</th>\n",
       "      <th>Customer ID</th>\n",
       "      <th>Product ID</th>\n",
       "      <th>Unit Price</th>\n",
       "      <th>Quantity</th>\n",
       "      <th>Date</th>\n",
       "      <th>Discount</th>\n",
       "      <th>Line Total</th>\n",
       "      <th>Store ID</th>\n",
       "      <th>Employee ID</th>\n",
       "      <th>Invoice Total</th>\n",
       "      <th>Category</th>\n",
       "      <th>Sub Category</th>\n",
       "      <th>Production Cost</th>\n",
       "    </tr>\n",
       "  </thead>\n",
       "  <tbody>\n",
       "    <tr>\n",
       "      <th>0</th>\n",
       "      <td>INV-US-001-04128642</td>\n",
       "      <td>268</td>\n",
       "      <td>1130</td>\n",
       "      <td>59.0</td>\n",
       "      <td>1</td>\n",
       "      <td>2023-01-01 20:23:00</td>\n",
       "      <td>0.4</td>\n",
       "      <td>35.4</td>\n",
       "      <td>1</td>\n",
       "      <td>5</td>\n",
       "      <td>144.9</td>\n",
       "      <td>Masculine</td>\n",
       "      <td>Coats and Blazers</td>\n",
       "      <td>42.21</td>\n",
       "    </tr>\n",
       "    <tr>\n",
       "      <th>1</th>\n",
       "      <td>INV-US-001-04128642</td>\n",
       "      <td>268</td>\n",
       "      <td>1694</td>\n",
       "      <td>34.5</td>\n",
       "      <td>1</td>\n",
       "      <td>2023-01-01 20:23:00</td>\n",
       "      <td>0.4</td>\n",
       "      <td>20.7</td>\n",
       "      <td>1</td>\n",
       "      <td>5</td>\n",
       "      <td>144.9</td>\n",
       "      <td>Feminine</td>\n",
       "      <td>Shirts and Blouses</td>\n",
       "      <td>5.66</td>\n",
       "    </tr>\n",
       "    <tr>\n",
       "      <th>2</th>\n",
       "      <td>INV-US-001-04128642</td>\n",
       "      <td>268</td>\n",
       "      <td>35</td>\n",
       "      <td>29.0</td>\n",
       "      <td>1</td>\n",
       "      <td>2023-01-01 20:23:00</td>\n",
       "      <td>0.4</td>\n",
       "      <td>17.4</td>\n",
       "      <td>1</td>\n",
       "      <td>5</td>\n",
       "      <td>144.9</td>\n",
       "      <td>Feminine</td>\n",
       "      <td>Sportswear</td>\n",
       "      <td>8.15</td>\n",
       "    </tr>\n",
       "    <tr>\n",
       "      <th>3</th>\n",
       "      <td>INV-US-001-04128642</td>\n",
       "      <td>268</td>\n",
       "      <td>1340</td>\n",
       "      <td>25.5</td>\n",
       "      <td>1</td>\n",
       "      <td>2023-01-01 20:23:00</td>\n",
       "      <td>0.4</td>\n",
       "      <td>15.3</td>\n",
       "      <td>1</td>\n",
       "      <td>5</td>\n",
       "      <td>144.9</td>\n",
       "      <td>Masculine</td>\n",
       "      <td>T-shirts and Polos</td>\n",
       "      <td>16.24</td>\n",
       "    </tr>\n",
       "    <tr>\n",
       "      <th>4</th>\n",
       "      <td>INV-US-001-04128642</td>\n",
       "      <td>268</td>\n",
       "      <td>2202</td>\n",
       "      <td>24.5</td>\n",
       "      <td>1</td>\n",
       "      <td>2023-01-01 20:23:00</td>\n",
       "      <td>0.4</td>\n",
       "      <td>14.7</td>\n",
       "      <td>1</td>\n",
       "      <td>5</td>\n",
       "      <td>144.9</td>\n",
       "      <td>Masculine</td>\n",
       "      <td>Sportswear</td>\n",
       "      <td>3.73</td>\n",
       "    </tr>\n",
       "  </tbody>\n",
       "</table>\n",
       "</div>"
      ],
      "text/plain": [
       "            Invoice ID  Customer ID  Product ID  Unit Price  Quantity  \\\n",
       "0  INV-US-001-04128642          268        1130        59.0         1   \n",
       "1  INV-US-001-04128642          268        1694        34.5         1   \n",
       "2  INV-US-001-04128642          268          35        29.0         1   \n",
       "3  INV-US-001-04128642          268        1340        25.5         1   \n",
       "4  INV-US-001-04128642          268        2202        24.5         1   \n",
       "\n",
       "                 Date  Discount  Line Total  Store ID  Employee ID  \\\n",
       "0 2023-01-01 20:23:00       0.4        35.4         1            5   \n",
       "1 2023-01-01 20:23:00       0.4        20.7         1            5   \n",
       "2 2023-01-01 20:23:00       0.4        17.4         1            5   \n",
       "3 2023-01-01 20:23:00       0.4        15.3         1            5   \n",
       "4 2023-01-01 20:23:00       0.4        14.7         1            5   \n",
       "\n",
       "   Invoice Total   Category        Sub Category  Production Cost  \n",
       "0          144.9  Masculine   Coats and Blazers            42.21  \n",
       "1          144.9   Feminine  Shirts and Blouses             5.66  \n",
       "2          144.9   Feminine          Sportswear             8.15  \n",
       "3          144.9  Masculine  T-shirts and Polos            16.24  \n",
       "4          144.9  Masculine          Sportswear             3.73  "
      ]
     },
     "execution_count": 242,
     "metadata": {},
     "output_type": "execute_result"
    }
   ],
   "source": [
    "# product performance\n",
    "# merge two table 'sales' and 'products' for the favoring of analysis\n",
    "s_p = sales.merge(products, how = 'inner', left_on = 'Product ID', right_on = 'Product ID')\n",
    "s_p.head()"
   ]
  },
  {
   "cell_type": "code",
   "execution_count": 243,
   "id": "43b8d138-31ca-4a6d-948b-6e8b4bb7db86",
   "metadata": {},
   "outputs": [
    {
     "data": {
      "text/plain": [
       "Product ID  Sub Category\n",
       "6619        Shirts          142\n",
       "6437        Shirts          141\n",
       "8026        Sportswear      139\n",
       "8494        Sportswear      138\n",
       "8676        Sportswear      137\n",
       "8208        Sportswear      135\n",
       "6544        Sportswear      135\n",
       "7064        Sportswear      134\n",
       "7480        Sportswear      134\n",
       "7584        Sportswear      133\n",
       "Name: Quantity, dtype: Int64"
      ]
     },
     "execution_count": 243,
     "metadata": {},
     "output_type": "execute_result"
    }
   ],
   "source": [
    "# the top 10 popular products\n",
    "s_p.groupby(['Product ID', 'Sub Category'])['Quantity'].sum().sort_values(ascending = False).head(10)"
   ]
  },
  {
   "cell_type": "code",
   "execution_count": 244,
   "id": "9941a618-f715-4ea1-a7a4-76f780f42d93",
   "metadata": {},
   "outputs": [
    {
     "data": {
      "text/plain": [
       "Product ID  Sub Category     \n",
       "5243        Suits and Blazers    10493.90\n",
       "4021        Suits and Blazers    10267.00\n",
       "4047        Suits and Blazers     9480.45\n",
       "5555        Suits and Blazers     9185.00\n",
       "3293        Suits and Blazers     9042.58\n",
       "7583        Suits and Blazers     8840.91\n",
       "5841        Suits and Blazers     8752.86\n",
       "3189        Suits and Blazers     8646.78\n",
       "4775        Suits and Blazers     8645.13\n",
       "5919        Suits and Blazers     8472.93\n",
       "Name: Total Profit, dtype: float64"
      ]
     },
     "execution_count": 244,
     "metadata": {},
     "output_type": "execute_result"
    }
   ],
   "source": [
    "# 10 most profitable products\n",
    "s_p['Total Profit'] =s_p.apply(lambda x:(x['Line Total']-(x['Production Cost']*x['Quantity'])), axis = 1)\n",
    "s_p.groupby(['Product ID', 'Sub Category'])['Total Profit'].sum().sort_values(ascending = False).head(10)"
   ]
  },
  {
   "cell_type": "code",
   "execution_count": 245,
   "id": "9b24f08c-cc66-4961-a8cf-51c6a8135302",
   "metadata": {},
   "outputs": [
    {
     "data": {
      "text/plain": [
       "Product ID  Sub Category     \n",
       "1525        Suits and Blazers   -531.02\n",
       "1655        Suits and Blazers   -484.64\n",
       "1256        Suits and Sets      -444.84\n",
       "2045        Suits and Blazers   -442.22\n",
       "355         Suits and Blazers   -435.44\n",
       "1052        Coats and Blazers   -400.50\n",
       "554         Suits and Sets      -385.34\n",
       "95          Suits and Blazers   -363.48\n",
       "511         Suits and Blazers   -362.04\n",
       "953         Suits and Blazers   -347.84\n",
       "Name: Total Profit, dtype: float64"
      ]
     },
     "execution_count": 245,
     "metadata": {},
     "output_type": "execute_result"
    }
   ],
   "source": [
    "# 10 most unprofitable products\n",
    "s_p.groupby(['Product ID', 'Sub Category'])['Total Profit'].sum().sort_values().head(10)"
   ]
  },
  {
   "cell_type": "code",
   "execution_count": 246,
   "id": "55c43b13-4072-419c-8dfa-c8a63f537bb7",
   "metadata": {},
   "outputs": [
    {
     "data": {
      "text/plain": [
       "<Axes: title={'center': 'Totoal profit each month'}, ylabel='Total Profit (million)'>"
      ]
     },
     "execution_count": 246,
     "metadata": {},
     "output_type": "execute_result"
    },
    {
     "data": {
      "image/png": "[encoded data removed]",
      "text/plain": [
       "<Figure size 640x480 with 1 Axes>"
      ]
     },
     "metadata": {},
     "output_type": "display_data"
    }
   ],
   "source": [
    "# profit of each month\n",
    "s_p.groupby([s_p['Date'].dt.year, s_p['Date'].dt.month])['Total Profit'].sum().plot.bar(title = 'Totoal profit each month', xlabel = '', ylabel = 'Total Profit (million)')"
   ]
  },
  {
   "cell_type": "code",
   "execution_count": 247,
   "id": "267dc3f1-4d19-43bb-8f92-a6adf3ac8a18",
   "metadata": {},
   "outputs": [
    {
     "data": {
      "text/plain": [
       "Sub Category       Product ID\n",
       "Suits and Blazers  3189          1460.70\n",
       "Suits and Sets     5494          1450.72\n",
       "                   5858          1384.16\n",
       "Suits and Blazers  3735          1368.18\n",
       "                   5659          1349.80\n",
       "Name: Total Profit, dtype: float64"
      ]
     },
     "execution_count": 247,
     "metadata": {},
     "output_type": "execute_result"
    }
   ],
   "source": [
    "# 5 most profitable product in Sep 2023\n",
    "s_p.loc[(s_p['Date'].dt.year == 2023) & (s_p['Date'].dt.month == 8)].groupby(['Sub Category','Product ID'])['Total Profit'].sum().sort_values(ascending = False).head()"
   ]
  },
  {
   "cell_type": "code",
   "execution_count": 248,
   "id": "d795e77f-f49b-420d-9e81-04d207c8dfdb",
   "metadata": {
    "scrolled": true
   },
   "outputs": [
    {
     "data": {
      "text/plain": [
       "<Axes: title={'center': 'Total Sales Each Store'}, xlabel='City and Store', ylabel='Total sales (million)'>"
      ]
     },
     "execution_count": 248,
     "metadata": {},
     "output_type": "execute_result"
    },
    {
     "data": {
      "image/png": "[encoded data removed]",
      "text/plain": [
       "<Figure size 300x300 with 1 Axes>"
      ]
     },
     "metadata": {},
     "output_type": "display_data"
    }
   ],
   "source": [
    "# store and employee comparison\n",
    "# stores perform the best\n",
    "s_p_st = s_p.merge(stores, how = 'inner',left_on = 'Store ID', right_on = 'Store ID')\n",
    "s_p_st.groupby(['Store ID', 'City'])['Invoice Total'].sum().plot.bar(figsize = (3,3), title = 'Total Sales Each Store', xlabel = 'City and Store', ylabel = 'Total sales (million)')"
   ]
  },
  {
   "cell_type": "code",
   "execution_count": 249,
   "id": "b061e9f0-f0ca-472b-af29-53077315184e",
   "metadata": {
    "scrolled": true
   },
   "outputs": [
    {
     "data": {
      "text/html": [
       "<div>\n",
       "<style scoped>\n",
       "    .dataframe tbody tr th:only-of-type {\n",
       "        vertical-align: middle;\n",
       "    }\n",
       "\n",
       "    .dataframe tbody tr th {\n",
       "        vertical-align: top;\n",
       "    }\n",
       "\n",
       "    .dataframe thead th {\n",
       "        text-align: right;\n",
       "    }\n",
       "</style>\n",
       "<table border=\"1\" class=\"dataframe\">\n",
       "  <thead>\n",
       "    <tr style=\"text-align: right;\">\n",
       "      <th></th>\n",
       "      <th></th>\n",
       "      <th></th>\n",
       "      <th>Total Profit</th>\n",
       "    </tr>\n",
       "    <tr>\n",
       "      <th>Employee ID</th>\n",
       "      <th>Store ID_x</th>\n",
       "      <th>Name</th>\n",
       "      <th></th>\n",
       "    </tr>\n",
       "  </thead>\n",
       "  <tbody>\n",
       "    <tr>\n",
       "      <th>2</th>\n",
       "      <th>1</th>\n",
       "      <th>Gabriel Cunningham</th>\n",
       "      <td>2305239.63</td>\n",
       "    </tr>\n",
       "    <tr>\n",
       "      <th>3</th>\n",
       "      <th>1</th>\n",
       "      <th>Timothy Fernandez</th>\n",
       "      <td>2276107.76</td>\n",
       "    </tr>\n",
       "    <tr>\n",
       "      <th>4</th>\n",
       "      <th>1</th>\n",
       "      <th>Natalie Rogers</th>\n",
       "      <td>2264375.33</td>\n",
       "    </tr>\n",
       "    <tr>\n",
       "      <th>5</th>\n",
       "      <th>1</th>\n",
       "      <th>Elizabeth Cantrell</th>\n",
       "      <td>2254691.51</td>\n",
       "    </tr>\n",
       "    <tr>\n",
       "      <th>6</th>\n",
       "      <th>1</th>\n",
       "      <th>Melissa Tran</th>\n",
       "      <td>2275585.95</td>\n",
       "    </tr>\n",
       "    <tr>\n",
       "      <th>8</th>\n",
       "      <th>2</th>\n",
       "      <th>Shannon Alvarez</th>\n",
       "      <td>575212.29</td>\n",
       "    </tr>\n",
       "    <tr>\n",
       "      <th>9</th>\n",
       "      <th>2</th>\n",
       "      <th>Frank Daniel</th>\n",
       "      <td>573180.43</td>\n",
       "    </tr>\n",
       "    <tr>\n",
       "      <th>10</th>\n",
       "      <th>2</th>\n",
       "      <th>James Burnett</th>\n",
       "      <td>570319.43</td>\n",
       "    </tr>\n",
       "    <tr>\n",
       "      <th>11</th>\n",
       "      <th>2</th>\n",
       "      <th>Jessica Maldonado</th>\n",
       "      <td>566550.93</td>\n",
       "    </tr>\n",
       "    <tr>\n",
       "      <th>12</th>\n",
       "      <th>2</th>\n",
       "      <th>Earl Wilson DVM</th>\n",
       "      <td>573179.08</td>\n",
       "    </tr>\n",
       "    <tr>\n",
       "      <th>13</th>\n",
       "      <th>2</th>\n",
       "      <th>Joshua Jackson</th>\n",
       "      <td>571623.26</td>\n",
       "    </tr>\n",
       "    <tr>\n",
       "      <th>14</th>\n",
       "      <th>2</th>\n",
       "      <th>Kevin Mcclain</th>\n",
       "      <td>571015.81</td>\n",
       "    </tr>\n",
       "    <tr>\n",
       "      <th>15</th>\n",
       "      <th>2</th>\n",
       "      <th>Thomas Gardner</th>\n",
       "      <td>577666.84</td>\n",
       "    </tr>\n",
       "  </tbody>\n",
       "</table>\n",
       "</div>"
      ],
      "text/plain": [
       "                                           Total Profit\n",
       "Employee ID Store ID_x Name                            \n",
       "2           1          Gabriel Cunningham    2305239.63\n",
       "3           1          Timothy Fernandez     2276107.76\n",
       "4           1          Natalie Rogers        2264375.33\n",
       "5           1          Elizabeth Cantrell    2254691.51\n",
       "6           1          Melissa Tran          2275585.95\n",
       "8           2          Shannon Alvarez        575212.29\n",
       "9           2          Frank Daniel           573180.43\n",
       "10          2          James Burnett          570319.43\n",
       "11          2          Jessica Maldonado      566550.93\n",
       "12          2          Earl Wilson DVM        573179.08\n",
       "13          2          Joshua Jackson         571623.26\n",
       "14          2          Kevin Mcclain          571015.81\n",
       "15          2          Thomas Gardner         577666.84"
      ]
     },
     "execution_count": 249,
     "metadata": {},
     "output_type": "execute_result"
    }
   ],
   "source": [
    "# employees perform\n",
    "s_p_e = s_p.merge(employees, how = 'inner', left_on = 'Employee ID', right_on = 'Employee ID')\n",
    "s_p_e.groupby(['Employee ID','Store ID_x','Name']).agg({'Total Profit':'sum'})"
   ]
  },
  {
   "cell_type": "code",
   "execution_count": 250,
   "id": "c00c0fcf-2ff6-4341-be47-37b003a49084",
   "metadata": {},
   "outputs": [
    {
     "name": "stderr",
     "output_type": "stream",
     "text": [
      "C:\\Users\\123\\AppData\\Local\\Temp\\ipykernel_19560\\457328901.py:3: FutureWarning: The default of observed=False is deprecated and will be changed to True in a future version of pandas. Pass observed=False to retain current behavior or observed=True to adopt the future default and silence this warning.\n",
      "  purchase_times = gs_c.groupby(['Customer ID', 'Gender']).agg({'Invoice ID':'count', 'Invoice Total':'sum'})\n"
     ]
    },
    {
     "data": {
      "text/html": [
       "<div>\n",
       "<style scoped>\n",
       "    .dataframe tbody tr th:only-of-type {\n",
       "        vertical-align: middle;\n",
       "    }\n",
       "\n",
       "    .dataframe tbody tr th {\n",
       "        vertical-align: top;\n",
       "    }\n",
       "\n",
       "    .dataframe thead th {\n",
       "        text-align: right;\n",
       "    }\n",
       "</style>\n",
       "<table border=\"1\" class=\"dataframe\">\n",
       "  <thead>\n",
       "    <tr style=\"text-align: right;\">\n",
       "      <th></th>\n",
       "      <th></th>\n",
       "      <th>Purchase times</th>\n",
       "      <th>Invoice Total</th>\n",
       "    </tr>\n",
       "    <tr>\n",
       "      <th>Customer ID</th>\n",
       "      <th>Gender</th>\n",
       "      <th></th>\n",
       "      <th></th>\n",
       "    </tr>\n",
       "  </thead>\n",
       "  <tbody>\n",
       "    <tr>\n",
       "      <th>47005</th>\n",
       "      <th>F</th>\n",
       "      <td>24</td>\n",
       "      <td>2254.05</td>\n",
       "    </tr>\n",
       "    <tr>\n",
       "      <th>20159</th>\n",
       "      <th>F</th>\n",
       "      <td>23</td>\n",
       "      <td>4043.03</td>\n",
       "    </tr>\n",
       "    <tr>\n",
       "      <th>37304</th>\n",
       "      <th>F</th>\n",
       "      <td>23</td>\n",
       "      <td>2007.58</td>\n",
       "    </tr>\n",
       "    <tr>\n",
       "      <th>35600</th>\n",
       "      <th>F</th>\n",
       "      <td>22</td>\n",
       "      <td>4517.15</td>\n",
       "    </tr>\n",
       "    <tr>\n",
       "      <th>16632</th>\n",
       "      <th>F</th>\n",
       "      <td>22</td>\n",
       "      <td>2027.40</td>\n",
       "    </tr>\n",
       "    <tr>\n",
       "      <th>10005</th>\n",
       "      <th>F</th>\n",
       "      <td>22</td>\n",
       "      <td>2812.20</td>\n",
       "    </tr>\n",
       "    <tr>\n",
       "      <th>20796</th>\n",
       "      <th>F</th>\n",
       "      <td>22</td>\n",
       "      <td>2123.76</td>\n",
       "    </tr>\n",
       "    <tr>\n",
       "      <th>6520</th>\n",
       "      <th>F</th>\n",
       "      <td>22</td>\n",
       "      <td>1269.96</td>\n",
       "    </tr>\n",
       "    <tr>\n",
       "      <th>15084</th>\n",
       "      <th>F</th>\n",
       "      <td>22</td>\n",
       "      <td>3105.91</td>\n",
       "    </tr>\n",
       "    <tr>\n",
       "      <th>13262</th>\n",
       "      <th>F</th>\n",
       "      <td>22</td>\n",
       "      <td>2427.45</td>\n",
       "    </tr>\n",
       "  </tbody>\n",
       "</table>\n",
       "</div>"
      ],
      "text/plain": [
       "                    Purchase times  Invoice Total\n",
       "Customer ID Gender                               \n",
       "47005       F                   24        2254.05\n",
       "20159       F                   23        4043.03\n",
       "37304       F                   23        2007.58\n",
       "35600       F                   22        4517.15\n",
       "16632       F                   22        2027.40\n",
       "10005       F                   22        2812.20\n",
       "20796       F                   22        2123.76\n",
       "6520        F                   22        1269.96\n",
       "15084       F                   22        3105.91\n",
       "13262       F                   22        2427.45"
      ]
     },
     "execution_count": 250,
     "metadata": {},
     "output_type": "execute_result"
    }
   ],
   "source": [
    "# the most frequent customers and their average spending\n",
    "gs_c = group_sales.merge(customers, how = 'inner', on = 'Customer ID')\n",
    "purchase_times = gs_c.groupby(['Customer ID', 'Gender']).agg({'Invoice ID':'count', 'Invoice Total':'sum'})\n",
    "purchase_times.rename(columns = {'Invoice ID':'Purchase times'}, inplace = True)\n",
    "purchase_times.sort_values(['Purchase times'], ascending = False).head(10)"
   ]
  },
  {
   "cell_type": "code",
   "execution_count": 251,
   "id": "d40df25c-f1d5-4b25-af7f-1a95c7be5be6",
   "metadata": {},
   "outputs": [
    {
     "data": {
      "text/plain": [
       "<Axes: title={'center': 'Most popular product among the top 100 frequent customers'}, ylabel='Quantity'>"
      ]
     },
     "execution_count": 251,
     "metadata": {},
     "output_type": "execute_result"
    },
    {
     "data": {
      "image/png": "[encoded data removed]",
      "text/plain": [
       "<Figure size 1000x600 with 1 Axes>"
      ]
     },
     "metadata": {},
     "output_type": "display_data"
    }
   ],
   "source": [
    "# Most popular product among the top 100 frequent customers\n",
    "\n",
    "# the most 100 frequent consumers\n",
    "best100 = purchase_times.sort_values('Purchase times', ascending = False).reset_index().head(100)\n",
    "# append customer id to a list \n",
    "best100list = best100['Customer ID'].tolist()\n",
    "# merge sales and products \n",
    "s_p = sales.merge(products, how = 'inner', left_on = 'Product ID', right_on = 'Product ID')\n",
    "# count the most 5 popular subcategory\n",
    "s_p.loc[s_p['Customer ID'].isin(best100list)].value_counts('Sub Category').plot.bar(figsize = (10,6),title = 'Most popular product among the top 100 frequent customers', xlabel = '', ylabel = 'Quantity')"
   ]
  },
  {
   "cell_type": "code",
   "execution_count": 252,
   "id": "d723c5d5-ec90-4968-8a3e-944ebb017195",
   "metadata": {},
   "outputs": [
    {
     "name": "stderr",
     "output_type": "stream",
     "text": [
      "C:\\Users\\123\\AppData\\Local\\Temp\\ipykernel_19560\\4030331245.py:4: FutureWarning: The default of observed=False is deprecated and will be changed to True in a future version of pandas. Pass observed=False to retain current behavior or observed=True to adopt the future default and silence this warning.\n",
      "  gs_c.groupby('Gender')['Invoice Total'].mean().plot.bar(figsize = (3,3), color = ['yellow', 'pink', 'blue'])\n"
     ]
    },
    {
     "data": {
      "text/plain": [
       "<Axes: xlabel='Gender'>"
      ]
     },
     "execution_count": 252,
     "metadata": {},
     "output_type": "execute_result"
    },
    {
     "data": {
      "image/png": "[encoded data removed]",
      "text/plain": [
       "<Figure size 300x300 with 1 Axes>"
      ]
     },
     "metadata": {},
     "output_type": "display_data"
    }
   ],
   "source": [
    "# gender-based purchasing pattern\n",
    "# average spending of order by gender-based\n",
    "gs_c = group_sales.merge(customers, how = 'inner', on = 'Customer ID')\n",
    "gs_c.groupby('Gender')['Invoice Total'].mean().plot.bar(figsize = (3,3), color = ['yellow', 'pink', 'blue'])"
   ]
  }
 ],
 "metadata": {
  "kernelspec": {
   "display_name": "Python 3 (ipykernel)",
   "language": "python",
   "name": "python3"
  },
  "language_info": {
   "codemirror_mode": {
    "name": "ipython",
    "version": 3
   },
   "file_extension": ".py",
   "mimetype": "text/x-python",
   "name": "python",
   "nbconvert_exporter": "python",
   "pygments_lexer": "ipython3",
   "version": "3.13.0"
  }
 },
 "nbformat": 4,
 "nbformat_minor": 5
}
