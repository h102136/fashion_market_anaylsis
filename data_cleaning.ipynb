{
 "cells": [
  {
   "cell_type": "code",
   "execution_count": 354,
   "id": "b8b417d8-456c-49f1-83b4-1b2f5bf9005c",
   "metadata": {},
   "outputs": [],
   "source": [
    "import pandas as pd\n",
    "sales = pd.read_csv('sales_600k.csv', encoding = 'utf-8')\n",
    "group_sales = pd.read_csv('group_sales.csv', encoding = 'utf-8')\n",
    "customers = pd.read_csv('customers_us.csv', encoding = 'utf-8')\n",
    "employees = pd.read_csv('employees.csv', encoding = 'utf-8')\n",
    "products = pd.read_csv('products.csv', encoding = 'utf-8')\n",
    "stores = pd.read_csv('stores.csv', encoding = 'utf-8')"
   ]
  },
  {
   "cell_type": "code",
   "execution_count": 355,
   "id": "f2fb24db-ce5e-4490-a434-3406046b6a8b",
   "metadata": {},
   "outputs": [
    {
     "name": "stdout",
     "output_type": "stream",
     "text": [
      "<class 'pandas.core.frame.DataFrame'>\n",
      "RangeIndex: 600000 entries, 0 to 599999\n",
      "Data columns (total 18 columns):\n",
      " #   Column           Non-Null Count   Dtype  \n",
      "---  ------           --------------   -----  \n",
      " 0   Invoice ID       600000 non-null  object \n",
      " 1   Line             600000 non-null  int64  \n",
      " 2   Customer ID      600000 non-null  int64  \n",
      " 3   Product ID       600000 non-null  int64  \n",
      " 4   Size             558427 non-null  object \n",
      " 5   Color            185103 non-null  object \n",
      " 6   Unit Price       600000 non-null  float64\n",
      " 7   Quantity         600000 non-null  int64  \n",
      " 8   Date             600000 non-null  object \n",
      " 9   Discount         600000 non-null  float64\n",
      " 10  Line Total       600000 non-null  float64\n",
      " 11  Store ID         600000 non-null  int64  \n",
      " 12  Employee ID      600000 non-null  int64  \n",
      " 13  Currency         600000 non-null  object \n",
      " 14  Currency Symbol  600000 non-null  object \n",
      " 15  SKU              600000 non-null  object \n",
      " 16  Payment Method   600000 non-null  object \n",
      " 17  Invoice Total    600000 non-null  float64\n",
      "dtypes: float64(4), int64(6), object(8)\n",
      "memory usage: 300.9 MB\n"
     ]
    }
   ],
   "source": [
    "# sales\n",
    "sales.info(memory_usage = 'deep')"
   ]
  },
  {
   "cell_type": "code",
   "execution_count": 356,
   "id": "c2d0a1d1-89be-4d23-a727-a4bf797f8b74",
   "metadata": {},
   "outputs": [],
   "source": [
    "# drop unuseful columns\n",
    "cols = ['Line','Size', 'Color', 'Currency', 'Currency Symbol', 'SKU', 'Payment Method']\n",
    "sales = sales.drop(cols, axis = 1)"
   ]
  },
  {
   "cell_type": "code",
   "execution_count": 357,
   "id": "d5fe6e5c-495b-4434-9c43-102262d2dda4",
   "metadata": {
    "scrolled": true
   },
   "outputs": [
    {
     "data": {
      "text/plain": [
       "Invoice ID       0\n",
       "Customer ID      0\n",
       "Product ID       0\n",
       "Unit Price       0\n",
       "Quantity         0\n",
       "Date             0\n",
       "Discount         0\n",
       "Line Total       0\n",
       "Store ID         0\n",
       "Employee ID      0\n",
       "Invoice Total    0\n",
       "dtype: int64"
      ]
     },
     "execution_count": 357,
     "metadata": {},
     "output_type": "execute_result"
    }
   ],
   "source": [
    "# detect null values\n",
    "sales.isna().sum()"
   ]
  },
  {
   "cell_type": "code",
   "execution_count": 358,
   "id": "87c71fef-1284-49eb-abf8-36fbfd97e934",
   "metadata": {},
   "outputs": [
    {
     "name": "stdout",
     "output_type": "stream",
     "text": [
      "<class 'pandas.core.frame.DataFrame'>\n",
      "RangeIndex: 600000 entries, 0 to 599999\n",
      "Data columns (total 11 columns):\n",
      " #   Column         Non-Null Count   Dtype  \n",
      "---  ------         --------------   -----  \n",
      " 0   Invoice ID     600000 non-null  object \n",
      " 1   Customer ID    600000 non-null  int64  \n",
      " 2   Product ID     600000 non-null  int64  \n",
      " 3   Unit Price     600000 non-null  float64\n",
      " 4   Quantity       600000 non-null  int64  \n",
      " 5   Date           600000 non-null  object \n",
      " 6   Discount       600000 non-null  float64\n",
      " 7   Line Total     600000 non-null  float64\n",
      " 8   Store ID       600000 non-null  int64  \n",
      " 9   Employee ID    600000 non-null  int64  \n",
      " 10  Invoice Total  600000 non-null  float64\n",
      "dtypes: float64(4), int64(5), object(2)\n",
      "memory usage: 119.0 MB\n"
     ]
    }
   ],
   "source": [
    "sales.info(memory_usage = 'deep')"
   ]
  },
  {
   "cell_type": "code",
   "execution_count": 359,
   "id": "ee066349-7f1c-4302-a637-e934f9ca2575",
   "metadata": {},
   "outputs": [
    {
     "data": {
      "text/html": [
       "<div>\n",
       "<style scoped>\n",
       "    .dataframe tbody tr th:only-of-type {\n",
       "        vertical-align: middle;\n",
       "    }\n",
       "\n",
       "    .dataframe tbody tr th {\n",
       "        vertical-align: top;\n",
       "    }\n",
       "\n",
       "    .dataframe thead th {\n",
       "        text-align: right;\n",
       "    }\n",
       "</style>\n",
       "<table border=\"1\" class=\"dataframe\">\n",
       "  <thead>\n",
       "    <tr style=\"text-align: right;\">\n",
       "      <th></th>\n",
       "      <th>Customer ID</th>\n",
       "      <th>Product ID</th>\n",
       "      <th>Unit Price</th>\n",
       "      <th>Quantity</th>\n",
       "      <th>Discount</th>\n",
       "      <th>Line Total</th>\n",
       "      <th>Store ID</th>\n",
       "      <th>Employee ID</th>\n",
       "      <th>Invoice Total</th>\n",
       "    </tr>\n",
       "  </thead>\n",
       "  <tbody>\n",
       "    <tr>\n",
       "      <th>count</th>\n",
       "      <td>6.000000e+05</td>\n",
       "      <td>600000.000000</td>\n",
       "      <td>600000.000000</td>\n",
       "      <td>600000.000000</td>\n",
       "      <td>600000.000000</td>\n",
       "      <td>600000.000000</td>\n",
       "      <td>600000.000000</td>\n",
       "      <td>600000.000000</td>\n",
       "      <td>600000.000000</td>\n",
       "    </tr>\n",
       "    <tr>\n",
       "      <th>mean</th>\n",
       "      <td>7.275523e+04</td>\n",
       "      <td>7725.361995</td>\n",
       "      <td>49.224652</td>\n",
       "      <td>1.100320</td>\n",
       "      <td>0.172595</td>\n",
       "      <td>45.556516</td>\n",
       "      <td>1.273020</td>\n",
       "      <td>6.046338</td>\n",
       "      <td>97.237490</td>\n",
       "    </tr>\n",
       "    <tr>\n",
       "      <th>std</th>\n",
       "      <td>9.051764e+04</td>\n",
       "      <td>4158.624914</td>\n",
       "      <td>26.499526</td>\n",
       "      <td>0.396597</td>\n",
       "      <td>0.208393</td>\n",
       "      <td>34.949987</td>\n",
       "      <td>0.445511</td>\n",
       "      <td>3.753199</td>\n",
       "      <td>99.316802</td>\n",
       "    </tr>\n",
       "    <tr>\n",
       "      <th>min</th>\n",
       "      <td>1.000000e+00</td>\n",
       "      <td>1.000000</td>\n",
       "      <td>4.000000</td>\n",
       "      <td>1.000000</td>\n",
       "      <td>0.000000</td>\n",
       "      <td>2.200000</td>\n",
       "      <td>1.000000</td>\n",
       "      <td>2.000000</td>\n",
       "      <td>2.200000</td>\n",
       "    </tr>\n",
       "    <tr>\n",
       "      <th>25%</th>\n",
       "      <td>2.421900e+04</td>\n",
       "      <td>4422.000000</td>\n",
       "      <td>30.000000</td>\n",
       "      <td>1.000000</td>\n",
       "      <td>0.000000</td>\n",
       "      <td>23.100000</td>\n",
       "      <td>1.000000</td>\n",
       "      <td>3.000000</td>\n",
       "      <td>32.400000</td>\n",
       "    </tr>\n",
       "    <tr>\n",
       "      <th>50%</th>\n",
       "      <td>4.856800e+04</td>\n",
       "      <td>7315.000000</td>\n",
       "      <td>42.500000</td>\n",
       "      <td>1.000000</td>\n",
       "      <td>0.000000</td>\n",
       "      <td>36.900000</td>\n",
       "      <td>1.000000</td>\n",
       "      <td>5.000000</td>\n",
       "      <td>59.500000</td>\n",
       "    </tr>\n",
       "    <tr>\n",
       "      <th>75%</th>\n",
       "      <td>9.818500e+04</td>\n",
       "      <td>11831.000000</td>\n",
       "      <td>62.000000</td>\n",
       "      <td>1.000000</td>\n",
       "      <td>0.400000</td>\n",
       "      <td>56.500000</td>\n",
       "      <td>2.000000</td>\n",
       "      <td>8.000000</td>\n",
       "      <td>124.922500</td>\n",
       "    </tr>\n",
       "    <tr>\n",
       "      <th>max</th>\n",
       "      <td>1.643187e+06</td>\n",
       "      <td>14950.000000</td>\n",
       "      <td>150.500000</td>\n",
       "      <td>3.000000</td>\n",
       "      <td>0.600000</td>\n",
       "      <td>450.000000</td>\n",
       "      <td>2.000000</td>\n",
       "      <td>15.000000</td>\n",
       "      <td>1050.500000</td>\n",
       "    </tr>\n",
       "  </tbody>\n",
       "</table>\n",
       "</div>"
      ],
      "text/plain": [
       "        Customer ID     Product ID     Unit Price       Quantity  \\\n",
       "count  6.000000e+05  600000.000000  600000.000000  600000.000000   \n",
       "mean   7.275523e+04    7725.361995      49.224652       1.100320   \n",
       "std    9.051764e+04    4158.624914      26.499526       0.396597   \n",
       "min    1.000000e+00       1.000000       4.000000       1.000000   \n",
       "25%    2.421900e+04    4422.000000      30.000000       1.000000   \n",
       "50%    4.856800e+04    7315.000000      42.500000       1.000000   \n",
       "75%    9.818500e+04   11831.000000      62.000000       1.000000   \n",
       "max    1.643187e+06   14950.000000     150.500000       3.000000   \n",
       "\n",
       "            Discount     Line Total       Store ID    Employee ID  \\\n",
       "count  600000.000000  600000.000000  600000.000000  600000.000000   \n",
       "mean        0.172595      45.556516       1.273020       6.046338   \n",
       "std         0.208393      34.949987       0.445511       3.753199   \n",
       "min         0.000000       2.200000       1.000000       2.000000   \n",
       "25%         0.000000      23.100000       1.000000       3.000000   \n",
       "50%         0.000000      36.900000       1.000000       5.000000   \n",
       "75%         0.400000      56.500000       2.000000       8.000000   \n",
       "max         0.600000     450.000000       2.000000      15.000000   \n",
       "\n",
       "       Invoice Total  \n",
       "count  600000.000000  \n",
       "mean       97.237490  \n",
       "std        99.316802  \n",
       "min         2.200000  \n",
       "25%        32.400000  \n",
       "50%        59.500000  \n",
       "75%       124.922500  \n",
       "max      1050.500000  "
      ]
     },
     "execution_count": 359,
     "metadata": {},
     "output_type": "execute_result"
    }
   ],
   "source": [
    "sales.describe()"
   ]
  },
  {
   "cell_type": "code",
   "execution_count": 360,
   "id": "004682a7-d968-4871-b6fa-6b38a671f30c",
   "metadata": {},
   "outputs": [
    {
     "name": "stdout",
     "output_type": "stream",
     "text": [
      "<class 'pandas.core.frame.DataFrame'>\n",
      "RangeIndex: 600000 entries, 0 to 599999\n",
      "Data columns (total 11 columns):\n",
      " #   Column         Non-Null Count   Dtype         \n",
      "---  ------         --------------   -----         \n",
      " 0   Invoice ID     600000 non-null  object        \n",
      " 1   Customer ID    600000 non-null  int64         \n",
      " 2   Product ID     600000 non-null  int64         \n",
      " 3   Unit Price     600000 non-null  float64       \n",
      " 4   Quantity       600000 non-null  Int8          \n",
      " 5   Date           600000 non-null  datetime64[ns]\n",
      " 6   Discount       600000 non-null  float64       \n",
      " 7   Line Total     600000 non-null  float64       \n",
      " 8   Store ID       600000 non-null  Int8          \n",
      " 9   Employee ID    600000 non-null  Int8          \n",
      " 10  Invoice Total  600000 non-null  float64       \n",
      "dtypes: Int8(3), datetime64[ns](1), float64(4), int64(2), object(1)\n",
      "memory usage: 74.4 MB\n"
     ]
    }
   ],
   "source": [
    "# convert columns to appropriate datatype\n",
    "sales = sales.astype({'Quantity':'Int8', 'Store ID':'Int8', 'Employee ID':'Int8', 'Date':'datetime64[ns]'})\n",
    "sales.info(memory_usage = 'deep')"
   ]
  },
  {
   "cell_type": "code",
   "execution_count": 361,
   "id": "2c268625-2154-4e9c-bd4d-a55360b1a7f7",
   "metadata": {},
   "outputs": [],
   "source": [
    "sales.to_csv('sales_c.csv', encoding = 'utf-8', index = False)"
   ]
  },
  {
   "cell_type": "code",
   "execution_count": 362,
   "id": "42a22d17-8385-4fba-905f-72ab0ab789a9",
   "metadata": {
    "scrolled": true
   },
   "outputs": [
    {
     "data": {
      "text/html": [
       "<div>\n",
       "<style scoped>\n",
       "    .dataframe tbody tr th:only-of-type {\n",
       "        vertical-align: middle;\n",
       "    }\n",
       "\n",
       "    .dataframe tbody tr th {\n",
       "        vertical-align: top;\n",
       "    }\n",
       "\n",
       "    .dataframe thead th {\n",
       "        text-align: right;\n",
       "    }\n",
       "</style>\n",
       "<table border=\"1\" class=\"dataframe\">\n",
       "  <thead>\n",
       "    <tr style=\"text-align: right;\">\n",
       "      <th></th>\n",
       "      <th>Invoice ID</th>\n",
       "      <th>Customer ID</th>\n",
       "      <th>Date</th>\n",
       "      <th>Quantity</th>\n",
       "      <th>Store ID</th>\n",
       "      <th>Employee ID</th>\n",
       "      <th>Invoice Total</th>\n",
       "    </tr>\n",
       "  </thead>\n",
       "  <tbody>\n",
       "    <tr>\n",
       "      <th>0</th>\n",
       "      <td>INV-US-001-04128642</td>\n",
       "      <td>268</td>\n",
       "      <td>2023-01-01 20:23:00</td>\n",
       "      <td>7</td>\n",
       "      <td>1</td>\n",
       "      <td>5</td>\n",
       "      <td>1014.3</td>\n",
       "    </tr>\n",
       "    <tr>\n",
       "      <th>1</th>\n",
       "      <td>INV-US-001-04128643</td>\n",
       "      <td>45500</td>\n",
       "      <td>2023-01-01 18:30:00</td>\n",
       "      <td>1</td>\n",
       "      <td>1</td>\n",
       "      <td>2</td>\n",
       "      <td>20.7</td>\n",
       "    </tr>\n",
       "    <tr>\n",
       "      <th>2</th>\n",
       "      <td>INV-US-001-04128644</td>\n",
       "      <td>26865</td>\n",
       "      <td>2023-01-01 08:46:00</td>\n",
       "      <td>1</td>\n",
       "      <td>1</td>\n",
       "      <td>6</td>\n",
       "      <td>20.7</td>\n",
       "    </tr>\n",
       "    <tr>\n",
       "      <th>3</th>\n",
       "      <td>INV-US-001-04128645</td>\n",
       "      <td>35878</td>\n",
       "      <td>2023-01-01 18:43:00</td>\n",
       "      <td>6</td>\n",
       "      <td>1</td>\n",
       "      <td>2</td>\n",
       "      <td>855.0</td>\n",
       "    </tr>\n",
       "    <tr>\n",
       "      <th>4</th>\n",
       "      <td>INV-US-001-04128646</td>\n",
       "      <td>7845</td>\n",
       "      <td>2023-01-01 16:46:00</td>\n",
       "      <td>1</td>\n",
       "      <td>1</td>\n",
       "      <td>3</td>\n",
       "      <td>13.5</td>\n",
       "    </tr>\n",
       "  </tbody>\n",
       "</table>\n",
       "</div>"
      ],
      "text/plain": [
       "            Invoice ID  Customer ID                 Date  Quantity  Store ID  \\\n",
       "0  INV-US-001-04128642          268  2023-01-01 20:23:00         7         1   \n",
       "1  INV-US-001-04128643        45500  2023-01-01 18:30:00         1         1   \n",
       "2  INV-US-001-04128644        26865  2023-01-01 08:46:00         1         1   \n",
       "3  INV-US-001-04128645        35878  2023-01-01 18:43:00         6         1   \n",
       "4  INV-US-001-04128646         7845  2023-01-01 16:46:00         1         1   \n",
       "\n",
       "   Employee ID  Invoice Total  \n",
       "0            5         1014.3  \n",
       "1            2           20.7  \n",
       "2            6           20.7  \n",
       "3            2          855.0  \n",
       "4            3           13.5  "
      ]
     },
     "execution_count": 362,
     "metadata": {},
     "output_type": "execute_result"
    }
   ],
   "source": [
    "# group_sales \n",
    "group_sales.head()"
   ]
  },
  {
   "cell_type": "code",
   "execution_count": 363,
   "id": "06e314fe-3998-4584-9e78-7dc4d7fb9cb1",
   "metadata": {},
   "outputs": [
    {
     "data": {
      "text/plain": [
       "Invoice ID       0\n",
       "Customer ID      0\n",
       "Date             0\n",
       "Quantity         0\n",
       "Store ID         0\n",
       "Employee ID      0\n",
       "Invoice Total    0\n",
       "dtype: int64"
      ]
     },
     "execution_count": 363,
     "metadata": {},
     "output_type": "execute_result"
    }
   ],
   "source": [
    "# detect null value\n",
    "group_sales.isna().sum()"
   ]
  },
  {
   "cell_type": "code",
   "execution_count": 364,
   "id": "eff145e8-4e46-4f3d-8dfa-3f46c8b73731",
   "metadata": {},
   "outputs": [
    {
     "data": {
      "text/html": [
       "<div>\n",
       "<style scoped>\n",
       "    .dataframe tbody tr th:only-of-type {\n",
       "        vertical-align: middle;\n",
       "    }\n",
       "\n",
       "    .dataframe tbody tr th {\n",
       "        vertical-align: top;\n",
       "    }\n",
       "\n",
       "    .dataframe thead th {\n",
       "        text-align: right;\n",
       "    }\n",
       "</style>\n",
       "<table border=\"1\" class=\"dataframe\">\n",
       "  <thead>\n",
       "    <tr style=\"text-align: right;\">\n",
       "      <th></th>\n",
       "      <th>Customer ID</th>\n",
       "      <th>Quantity</th>\n",
       "      <th>Store ID</th>\n",
       "      <th>Employee ID</th>\n",
       "      <th>Invoice Total</th>\n",
       "    </tr>\n",
       "  </thead>\n",
       "  <tbody>\n",
       "    <tr>\n",
       "      <th>count</th>\n",
       "      <td>4.288390e+05</td>\n",
       "      <td>428839.000000</td>\n",
       "      <td>428839.000000</td>\n",
       "      <td>428839.000000</td>\n",
       "      <td>428839.000000</td>\n",
       "    </tr>\n",
       "    <tr>\n",
       "      <th>mean</th>\n",
       "      <td>7.291444e+04</td>\n",
       "      <td>1.539487</td>\n",
       "      <td>1.273632</td>\n",
       "      <td>6.052078</td>\n",
       "      <td>136.047547</td>\n",
       "    </tr>\n",
       "    <tr>\n",
       "      <th>std</th>\n",
       "      <td>9.149678e+04</td>\n",
       "      <td>1.212454</td>\n",
       "      <td>0.445823</td>\n",
       "      <td>3.753049</td>\n",
       "      <td>332.341089</td>\n",
       "    </tr>\n",
       "    <tr>\n",
       "      <th>min</th>\n",
       "      <td>1.000000e+00</td>\n",
       "      <td>1.000000</td>\n",
       "      <td>1.000000</td>\n",
       "      <td>2.000000</td>\n",
       "      <td>2.200000</td>\n",
       "    </tr>\n",
       "    <tr>\n",
       "      <th>25%</th>\n",
       "      <td>2.425100e+04</td>\n",
       "      <td>1.000000</td>\n",
       "      <td>1.000000</td>\n",
       "      <td>3.000000</td>\n",
       "      <td>26.100000</td>\n",
       "    </tr>\n",
       "    <tr>\n",
       "      <th>50%</th>\n",
       "      <td>4.865000e+04</td>\n",
       "      <td>1.000000</td>\n",
       "      <td>1.000000</td>\n",
       "      <td>5.000000</td>\n",
       "      <td>44.500000</td>\n",
       "    </tr>\n",
       "    <tr>\n",
       "      <th>75%</th>\n",
       "      <td>9.824900e+04</td>\n",
       "      <td>2.000000</td>\n",
       "      <td>2.000000</td>\n",
       "      <td>8.000000</td>\n",
       "      <td>94.500000</td>\n",
       "    </tr>\n",
       "    <tr>\n",
       "      <th>max</th>\n",
       "      <td>1.643187e+06</td>\n",
       "      <td>14.000000</td>\n",
       "      <td>2.000000</td>\n",
       "      <td>15.000000</td>\n",
       "      <td>7353.500000</td>\n",
       "    </tr>\n",
       "  </tbody>\n",
       "</table>\n",
       "</div>"
      ],
      "text/plain": [
       "        Customer ID       Quantity       Store ID    Employee ID  \\\n",
       "count  4.288390e+05  428839.000000  428839.000000  428839.000000   \n",
       "mean   7.291444e+04       1.539487       1.273632       6.052078   \n",
       "std    9.149678e+04       1.212454       0.445823       3.753049   \n",
       "min    1.000000e+00       1.000000       1.000000       2.000000   \n",
       "25%    2.425100e+04       1.000000       1.000000       3.000000   \n",
       "50%    4.865000e+04       1.000000       1.000000       5.000000   \n",
       "75%    9.824900e+04       2.000000       2.000000       8.000000   \n",
       "max    1.643187e+06      14.000000       2.000000      15.000000   \n",
       "\n",
       "       Invoice Total  \n",
       "count  428839.000000  \n",
       "mean      136.047547  \n",
       "std       332.341089  \n",
       "min         2.200000  \n",
       "25%        26.100000  \n",
       "50%        44.500000  \n",
       "75%        94.500000  \n",
       "max      7353.500000  "
      ]
     },
     "execution_count": 364,
     "metadata": {},
     "output_type": "execute_result"
    }
   ],
   "source": [
    "group_sales.describe()"
   ]
  },
  {
   "cell_type": "code",
   "execution_count": 365,
   "id": "650a03ba-2196-435a-879d-052f98854d85",
   "metadata": {},
   "outputs": [
    {
     "name": "stdout",
     "output_type": "stream",
     "text": [
      "<class 'pandas.core.frame.DataFrame'>\n",
      "RangeIndex: 428839 entries, 0 to 428838\n",
      "Data columns (total 7 columns):\n",
      " #   Column         Non-Null Count   Dtype  \n",
      "---  ------         --------------   -----  \n",
      " 0   Invoice ID     428839 non-null  object \n",
      " 1   Customer ID    428839 non-null  int64  \n",
      " 2   Date           428839 non-null  object \n",
      " 3   Quantity       428839 non-null  int64  \n",
      " 4   Store ID       428839 non-null  int64  \n",
      " 5   Employee ID    428839 non-null  int64  \n",
      " 6   Invoice Total  428839 non-null  float64\n",
      "dtypes: float64(1), int64(4), object(2)\n",
      "memory usage: 72.0 MB\n"
     ]
    }
   ],
   "source": [
    "group_sales.info(memory_usage = 'deep')"
   ]
  },
  {
   "cell_type": "code",
   "execution_count": 366,
   "id": "c4e1d2c6-5122-4d05-8172-1b21169a7313",
   "metadata": {},
   "outputs": [
    {
     "name": "stdout",
     "output_type": "stream",
     "text": [
      "<class 'pandas.core.frame.DataFrame'>\n",
      "RangeIndex: 428839 entries, 0 to 428838\n",
      "Data columns (total 7 columns):\n",
      " #   Column         Non-Null Count   Dtype         \n",
      "---  ------         --------------   -----         \n",
      " 0   Invoice ID     428839 non-null  object        \n",
      " 1   Customer ID    428839 non-null  int64         \n",
      " 2   Date           428839 non-null  datetime64[ns]\n",
      " 3   Quantity       428839 non-null  Int8          \n",
      " 4   Store ID       428839 non-null  Int8          \n",
      " 5   Employee ID    428839 non-null  Int8          \n",
      " 6   Invoice Total  428839 non-null  float64       \n",
      "dtypes: Int8(3), datetime64[ns](1), float64(1), int64(1), object(1)\n",
      "memory usage: 40.1 MB\n"
     ]
    }
   ],
   "source": [
    "# convert columns to appropriate data type\n",
    "group_sales = group_sales.astype({'Quantity':'Int8', 'Store ID':'Int8', 'Employee ID':'Int8', 'Date':'datetime64[ns]'})\n",
    "group_sales.info(memory_usage = 'deep')"
   ]
  },
  {
   "cell_type": "code",
   "execution_count": 367,
   "id": "0f807c25-13e2-4350-8ec4-9672f37f8041",
   "metadata": {},
   "outputs": [],
   "source": [
    "group_sales.to_csv('group_sales_c.csv', encoding = 'utf-8', index = False)"
   ]
  },
  {
   "cell_type": "code",
   "execution_count": 368,
   "id": "bb47e171-4ce0-47aa-9889-93d5fe4b2fbf",
   "metadata": {
    "scrolled": true
   },
   "outputs": [
    {
     "data": {
      "text/html": [
       "<div>\n",
       "<style scoped>\n",
       "    .dataframe tbody tr th:only-of-type {\n",
       "        vertical-align: middle;\n",
       "    }\n",
       "\n",
       "    .dataframe tbody tr th {\n",
       "        vertical-align: top;\n",
       "    }\n",
       "\n",
       "    .dataframe thead th {\n",
       "        text-align: right;\n",
       "    }\n",
       "</style>\n",
       "<table border=\"1\" class=\"dataframe\">\n",
       "  <thead>\n",
       "    <tr style=\"text-align: right;\">\n",
       "      <th></th>\n",
       "      <th>Customer ID</th>\n",
       "      <th>Name</th>\n",
       "      <th>Country</th>\n",
       "      <th>Gender</th>\n",
       "      <th>Date Of Birth</th>\n",
       "    </tr>\n",
       "  </thead>\n",
       "  <tbody>\n",
       "    <tr>\n",
       "      <th>0</th>\n",
       "      <td>1</td>\n",
       "      <td>Danny Hardy</td>\n",
       "      <td>United States</td>\n",
       "      <td>M</td>\n",
       "      <td>1983-07-09</td>\n",
       "    </tr>\n",
       "    <tr>\n",
       "      <th>1</th>\n",
       "      <td>2</td>\n",
       "      <td>Billy Cook</td>\n",
       "      <td>United States</td>\n",
       "      <td>M</td>\n",
       "      <td>1997-09-21</td>\n",
       "    </tr>\n",
       "    <tr>\n",
       "      <th>2</th>\n",
       "      <td>3</td>\n",
       "      <td>Monica Jackson</td>\n",
       "      <td>United States</td>\n",
       "      <td>F</td>\n",
       "      <td>1992-10-13</td>\n",
       "    </tr>\n",
       "    <tr>\n",
       "      <th>3</th>\n",
       "      <td>4</td>\n",
       "      <td>Sarah Carroll</td>\n",
       "      <td>United States</td>\n",
       "      <td>F</td>\n",
       "      <td>1979-07-08</td>\n",
       "    </tr>\n",
       "    <tr>\n",
       "      <th>4</th>\n",
       "      <td>5</td>\n",
       "      <td>Dana Gardner</td>\n",
       "      <td>United States</td>\n",
       "      <td>F</td>\n",
       "      <td>1970-07-11</td>\n",
       "    </tr>\n",
       "  </tbody>\n",
       "</table>\n",
       "</div>"
      ],
      "text/plain": [
       "   Customer ID            Name        Country Gender Date Of Birth\n",
       "0            1     Danny Hardy  United States      M    1983-07-09\n",
       "1            2      Billy Cook  United States      M    1997-09-21\n",
       "2            3  Monica Jackson  United States      F    1992-10-13\n",
       "3            4   Sarah Carroll  United States      F    1979-07-08\n",
       "4            5    Dana Gardner  United States      F    1970-07-11"
      ]
     },
     "execution_count": 368,
     "metadata": {},
     "output_type": "execute_result"
    }
   ],
   "source": [
    "# customers\n",
    "customers.head()"
   ]
  },
  {
   "cell_type": "code",
   "execution_count": 369,
   "id": "1bb7eb3e-068a-46eb-9815-618e0c68e824",
   "metadata": {},
   "outputs": [
    {
     "name": "stdout",
     "output_type": "stream",
     "text": [
      "<class 'pandas.core.frame.DataFrame'>\n",
      "RangeIndex: 354450 entries, 0 to 354449\n",
      "Data columns (total 4 columns):\n",
      " #   Column         Non-Null Count   Dtype \n",
      "---  ------         --------------   ----- \n",
      " 0   Customer ID    354450 non-null  int64 \n",
      " 1   Name           354450 non-null  object\n",
      " 2   Gender         354450 non-null  object\n",
      " 3   Date Of Birth  354450 non-null  object\n",
      "dtypes: int64(1), object(3)\n",
      "memory usage: 60.6 MB\n"
     ]
    }
   ],
   "source": [
    "customers = customers.drop('Country', axis = 1)\n",
    "customers.info(memory_usage = 'deep')"
   ]
  },
  {
   "cell_type": "code",
   "execution_count": 370,
   "id": "db5a5dcd-2630-4fa4-9903-18adcc6c8156",
   "metadata": {
    "scrolled": true
   },
   "outputs": [
    {
     "data": {
      "text/plain": [
       "Customer ID      0\n",
       "Name             0\n",
       "Gender           0\n",
       "Date Of Birth    0\n",
       "dtype: int64"
      ]
     },
     "execution_count": 370,
     "metadata": {},
     "output_type": "execute_result"
    }
   ],
   "source": [
    "# detect null value\n",
    "customers.isna().sum()"
   ]
  },
  {
   "cell_type": "code",
   "execution_count": 371,
   "id": "bda7cab1-a2fb-45e5-9756-d6c282f03d73",
   "metadata": {},
   "outputs": [
    {
     "data": {
      "text/html": [
       "<div>\n",
       "<style scoped>\n",
       "    .dataframe tbody tr th:only-of-type {\n",
       "        vertical-align: middle;\n",
       "    }\n",
       "\n",
       "    .dataframe tbody tr th {\n",
       "        vertical-align: top;\n",
       "    }\n",
       "\n",
       "    .dataframe thead th {\n",
       "        text-align: right;\n",
       "    }\n",
       "</style>\n",
       "<table border=\"1\" class=\"dataframe\">\n",
       "  <thead>\n",
       "    <tr style=\"text-align: right;\">\n",
       "      <th></th>\n",
       "      <th>Customer ID</th>\n",
       "    </tr>\n",
       "  </thead>\n",
       "  <tbody>\n",
       "    <tr>\n",
       "      <th>count</th>\n",
       "      <td>354450.000000</td>\n",
       "    </tr>\n",
       "    <tr>\n",
       "      <th>mean</th>\n",
       "      <td>177225.500000</td>\n",
       "    </tr>\n",
       "    <tr>\n",
       "      <th>std</th>\n",
       "      <td>102321.045795</td>\n",
       "    </tr>\n",
       "    <tr>\n",
       "      <th>min</th>\n",
       "      <td>1.000000</td>\n",
       "    </tr>\n",
       "    <tr>\n",
       "      <th>25%</th>\n",
       "      <td>88613.250000</td>\n",
       "    </tr>\n",
       "    <tr>\n",
       "      <th>50%</th>\n",
       "      <td>177225.500000</td>\n",
       "    </tr>\n",
       "    <tr>\n",
       "      <th>75%</th>\n",
       "      <td>265837.750000</td>\n",
       "    </tr>\n",
       "    <tr>\n",
       "      <th>max</th>\n",
       "      <td>354450.000000</td>\n",
       "    </tr>\n",
       "  </tbody>\n",
       "</table>\n",
       "</div>"
      ],
      "text/plain": [
       "         Customer ID\n",
       "count  354450.000000\n",
       "mean   177225.500000\n",
       "std    102321.045795\n",
       "min         1.000000\n",
       "25%     88613.250000\n",
       "50%    177225.500000\n",
       "75%    265837.750000\n",
       "max    354450.000000"
      ]
     },
     "execution_count": 371,
     "metadata": {},
     "output_type": "execute_result"
    }
   ],
   "source": [
    "customers.describe()"
   ]
  },
  {
   "cell_type": "code",
   "execution_count": 372,
   "id": "13468d15-5d64-4b46-b39d-773ac0262862",
   "metadata": {
    "scrolled": true
   },
   "outputs": [
    {
     "name": "stdout",
     "output_type": "stream",
     "text": [
      "<class 'pandas.core.frame.DataFrame'>\n",
      "RangeIndex: 354450 entries, 0 to 354449\n",
      "Data columns (total 4 columns):\n",
      " #   Column         Non-Null Count   Dtype         \n",
      "---  ------         --------------   -----         \n",
      " 0   Customer ID    354450 non-null  Int32         \n",
      " 1   Name           354450 non-null  object        \n",
      " 2   Gender         354450 non-null  category      \n",
      " 3   Date Of Birth  354450 non-null  datetime64[ns]\n",
      "dtypes: Int32(1), category(1), datetime64[ns](1), object(1)\n",
      "memory usage: 25.8 MB\n"
     ]
    }
   ],
   "source": [
    "# convert columns to appropriate data type\n",
    "customers = customers.astype({'Customer ID':'Int32', 'Gender':'category', 'Date Of Birth':'datetime64[ns]'})\n",
    "customers.info(memory_usage = 'deep')"
   ]
  },
  {
   "cell_type": "code",
   "execution_count": 373,
   "id": "60c13896-6d3b-4137-a8c8-b1486f489a67",
   "metadata": {},
   "outputs": [],
   "source": [
    "customers.to_csv('customers_c.csv', encoding = 'utf-8', index = False)"
   ]
  },
  {
   "cell_type": "code",
   "execution_count": 374,
   "id": "2b40915a-8c46-4387-a554-103f1e20d4aa",
   "metadata": {},
   "outputs": [
    {
     "data": {
      "text/html": [
       "<div>\n",
       "<style scoped>\n",
       "    .dataframe tbody tr th:only-of-type {\n",
       "        vertical-align: middle;\n",
       "    }\n",
       "\n",
       "    .dataframe tbody tr th {\n",
       "        vertical-align: top;\n",
       "    }\n",
       "\n",
       "    .dataframe thead th {\n",
       "        text-align: right;\n",
       "    }\n",
       "</style>\n",
       "<table border=\"1\" class=\"dataframe\">\n",
       "  <thead>\n",
       "    <tr style=\"text-align: right;\">\n",
       "      <th></th>\n",
       "      <th>Employee ID</th>\n",
       "      <th>Store ID</th>\n",
       "      <th>Name</th>\n",
       "      <th>Position</th>\n",
       "    </tr>\n",
       "  </thead>\n",
       "  <tbody>\n",
       "    <tr>\n",
       "      <th>0</th>\n",
       "      <td>1</td>\n",
       "      <td>1</td>\n",
       "      <td>Jesus Jacobs</td>\n",
       "      <td>Manager</td>\n",
       "    </tr>\n",
       "    <tr>\n",
       "      <th>1</th>\n",
       "      <td>2</td>\n",
       "      <td>1</td>\n",
       "      <td>Gabriel Cunningham</td>\n",
       "      <td>Seller</td>\n",
       "    </tr>\n",
       "    <tr>\n",
       "      <th>2</th>\n",
       "      <td>3</td>\n",
       "      <td>1</td>\n",
       "      <td>Timothy Fernandez</td>\n",
       "      <td>Seller</td>\n",
       "    </tr>\n",
       "    <tr>\n",
       "      <th>3</th>\n",
       "      <td>4</td>\n",
       "      <td>1</td>\n",
       "      <td>Natalie Rogers</td>\n",
       "      <td>Seller</td>\n",
       "    </tr>\n",
       "    <tr>\n",
       "      <th>4</th>\n",
       "      <td>5</td>\n",
       "      <td>1</td>\n",
       "      <td>Elizabeth Cantrell</td>\n",
       "      <td>Seller</td>\n",
       "    </tr>\n",
       "  </tbody>\n",
       "</table>\n",
       "</div>"
      ],
      "text/plain": [
       "   Employee ID  Store ID                Name Position\n",
       "0            1         1        Jesus Jacobs  Manager\n",
       "1            2         1  Gabriel Cunningham   Seller\n",
       "2            3         1   Timothy Fernandez   Seller\n",
       "3            4         1      Natalie Rogers   Seller\n",
       "4            5         1  Elizabeth Cantrell   Seller"
      ]
     },
     "execution_count": 374,
     "metadata": {},
     "output_type": "execute_result"
    }
   ],
   "source": [
    "# employees\n",
    "employees.head()"
   ]
  },
  {
   "cell_type": "code",
   "execution_count": 375,
   "id": "9a2707c1-1dbc-497a-adc7-76e8f4575945",
   "metadata": {},
   "outputs": [
    {
     "name": "stdout",
     "output_type": "stream",
     "text": [
      "<class 'pandas.core.frame.DataFrame'>\n",
      "RangeIndex: 264 entries, 0 to 263\n",
      "Data columns (total 3 columns):\n",
      " #   Column       Non-Null Count  Dtype \n",
      "---  ------       --------------  ----- \n",
      " 0   Employee ID  264 non-null    int64 \n",
      " 1   Store ID     264 non-null    int64 \n",
      " 2   Name         264 non-null    object\n",
      "dtypes: int64(2), object(1)\n",
      "memory usage: 21.9 KB\n"
     ]
    }
   ],
   "source": [
    "employees = employees.drop('Position', axis = 1)\n",
    "employees.info(memory_usage = 'deep')"
   ]
  },
  {
   "cell_type": "code",
   "execution_count": 376,
   "id": "44dc5cae-e012-41fa-80df-43f98943dc7f",
   "metadata": {},
   "outputs": [
    {
     "data": {
      "text/plain": [
       "Employee ID    0\n",
       "Store ID       0\n",
       "Name           0\n",
       "dtype: int64"
      ]
     },
     "execution_count": 376,
     "metadata": {},
     "output_type": "execute_result"
    }
   ],
   "source": [
    "# detect null value\n",
    "employees.isna().sum()"
   ]
  },
  {
   "cell_type": "code",
   "execution_count": 377,
   "id": "c81563f2-c475-4ac5-85e2-e3fbc19adc6f",
   "metadata": {},
   "outputs": [
    {
     "data": {
      "text/html": [
       "<div>\n",
       "<style scoped>\n",
       "    .dataframe tbody tr th:only-of-type {\n",
       "        vertical-align: middle;\n",
       "    }\n",
       "\n",
       "    .dataframe tbody tr th {\n",
       "        vertical-align: top;\n",
       "    }\n",
       "\n",
       "    .dataframe thead th {\n",
       "        text-align: right;\n",
       "    }\n",
       "</style>\n",
       "<table border=\"1\" class=\"dataframe\">\n",
       "  <thead>\n",
       "    <tr style=\"text-align: right;\">\n",
       "      <th></th>\n",
       "      <th>Employee ID</th>\n",
       "      <th>Store ID</th>\n",
       "    </tr>\n",
       "  </thead>\n",
       "  <tbody>\n",
       "    <tr>\n",
       "      <th>count</th>\n",
       "      <td>264.000000</td>\n",
       "      <td>264.000000</td>\n",
       "    </tr>\n",
       "    <tr>\n",
       "      <th>mean</th>\n",
       "      <td>132.500000</td>\n",
       "      <td>17.875000</td>\n",
       "    </tr>\n",
       "    <tr>\n",
       "      <th>std</th>\n",
       "      <td>76.354437</td>\n",
       "      <td>10.072527</td>\n",
       "    </tr>\n",
       "    <tr>\n",
       "      <th>min</th>\n",
       "      <td>1.000000</td>\n",
       "      <td>1.000000</td>\n",
       "    </tr>\n",
       "    <tr>\n",
       "      <th>25%</th>\n",
       "      <td>66.750000</td>\n",
       "      <td>9.750000</td>\n",
       "    </tr>\n",
       "    <tr>\n",
       "      <th>50%</th>\n",
       "      <td>132.500000</td>\n",
       "      <td>17.000000</td>\n",
       "    </tr>\n",
       "    <tr>\n",
       "      <th>75%</th>\n",
       "      <td>198.250000</td>\n",
       "      <td>27.000000</td>\n",
       "    </tr>\n",
       "    <tr>\n",
       "      <th>max</th>\n",
       "      <td>264.000000</td>\n",
       "      <td>35.000000</td>\n",
       "    </tr>\n",
       "  </tbody>\n",
       "</table>\n",
       "</div>"
      ],
      "text/plain": [
       "       Employee ID    Store ID\n",
       "count   264.000000  264.000000\n",
       "mean    132.500000   17.875000\n",
       "std      76.354437   10.072527\n",
       "min       1.000000    1.000000\n",
       "25%      66.750000    9.750000\n",
       "50%     132.500000   17.000000\n",
       "75%     198.250000   27.000000\n",
       "max     264.000000   35.000000"
      ]
     },
     "execution_count": 377,
     "metadata": {},
     "output_type": "execute_result"
    }
   ],
   "source": [
    "employees.describe()"
   ]
  },
  {
   "cell_type": "code",
   "execution_count": 378,
   "id": "2db86e51-0e8d-4db9-985a-31c673e26a9e",
   "metadata": {
    "scrolled": true
   },
   "outputs": [
    {
     "name": "stdout",
     "output_type": "stream",
     "text": [
      "<class 'pandas.core.frame.DataFrame'>\n",
      "RangeIndex: 264 entries, 0 to 263\n",
      "Data columns (total 3 columns):\n",
      " #   Column       Non-Null Count  Dtype \n",
      "---  ------       --------------  ----- \n",
      " 0   Employee ID  264 non-null    Int16 \n",
      " 1   Store ID     264 non-null    Int8  \n",
      " 2   Name         264 non-null    object\n",
      "dtypes: Int16(1), Int8(1), object(1)\n",
      "memory usage: 19.1 KB\n"
     ]
    }
   ],
   "source": [
    "# convert column to appropriate data type\n",
    "employees = employees.astype({'Employee ID':'Int16', 'Store ID':'Int8'})\n",
    "employees.info(memory_usage = 'deep')"
   ]
  },
  {
   "cell_type": "code",
   "execution_count": 379,
   "id": "5dfacee3-1de2-4ec3-b9f5-7af1c1cdac31",
   "metadata": {},
   "outputs": [],
   "source": [
    "employees.to_csv('employees_c.csv', encoding = 'utf-8', index = False)"
   ]
  },
  {
   "cell_type": "code",
   "execution_count": 380,
   "id": "f8a8daac-68fe-408d-a8f8-1559293beabf",
   "metadata": {},
   "outputs": [
    {
     "data": {
      "text/html": [
       "<div>\n",
       "<style scoped>\n",
       "    .dataframe tbody tr th:only-of-type {\n",
       "        vertical-align: middle;\n",
       "    }\n",
       "\n",
       "    .dataframe tbody tr th {\n",
       "        vertical-align: top;\n",
       "    }\n",
       "\n",
       "    .dataframe thead th {\n",
       "        text-align: right;\n",
       "    }\n",
       "</style>\n",
       "<table border=\"1\" class=\"dataframe\">\n",
       "  <thead>\n",
       "    <tr style=\"text-align: right;\">\n",
       "      <th></th>\n",
       "      <th>Product ID</th>\n",
       "      <th>Category</th>\n",
       "      <th>Sub Category</th>\n",
       "      <th>Description PT</th>\n",
       "      <th>Description DE</th>\n",
       "      <th>Description FR</th>\n",
       "      <th>Description ES</th>\n",
       "      <th>Description EN</th>\n",
       "      <th>Description ZH</th>\n",
       "      <th>Color</th>\n",
       "      <th>Sizes</th>\n",
       "      <th>Production Cost</th>\n",
       "    </tr>\n",
       "  </thead>\n",
       "  <tbody>\n",
       "    <tr>\n",
       "      <th>0</th>\n",
       "      <td>1</td>\n",
       "      <td>Feminine</td>\n",
       "      <td>Coats and Blazers</td>\n",
       "      <td>Esportivo Veludo Verde Com Botões</td>\n",
       "      <td>Sport Samt Sport Mit Knöpfen</td>\n",
       "      <td>Sports Velvet Sports Avec Des Boutons</td>\n",
       "      <td>Deportes De Terciopelo Con Botones</td>\n",
       "      <td>Sports Velvet Sports With Buttons</td>\n",
       "      <td>运动天鹅绒运动与按钮</td>\n",
       "      <td>NaN</td>\n",
       "      <td>S|M|L|XL</td>\n",
       "      <td>41.68</td>\n",
       "    </tr>\n",
       "    <tr>\n",
       "      <th>1</th>\n",
       "      <td>2</td>\n",
       "      <td>Feminine</td>\n",
       "      <td>Sweaters and Knitwear</td>\n",
       "      <td>Luxuoso Denim Rosa Com Botões</td>\n",
       "      <td>Luxuriöser Rosa Jeans Mit Knöpfen</td>\n",
       "      <td>Léchard De Denim Rose Avec Boutons</td>\n",
       "      <td>Denim Rosa Lujoso Con Botones</td>\n",
       "      <td>Luxurious Pink Denim With Buttons</td>\n",
       "      <td>豪华的粉红色牛仔布和纽扣</td>\n",
       "      <td>PINK</td>\n",
       "      <td>S|M|L|XL</td>\n",
       "      <td>15.07</td>\n",
       "    </tr>\n",
       "    <tr>\n",
       "      <th>2</th>\n",
       "      <td>3</td>\n",
       "      <td>Feminine</td>\n",
       "      <td>Dresses and Jumpsuits</td>\n",
       "      <td>Retrô Tricot Preto Estampado</td>\n",
       "      <td>Black Tricot Gedruckter Tricot</td>\n",
       "      <td>Tricot Imprimé En Tricot Noir</td>\n",
       "      <td>Tricot Negro Tricot Impreso</td>\n",
       "      <td>Black Tricot Printed Tricot</td>\n",
       "      <td>黑色三角形印刷三角形</td>\n",
       "      <td>BLACK</td>\n",
       "      <td>S|M|L</td>\n",
       "      <td>19.56</td>\n",
       "    </tr>\n",
       "    <tr>\n",
       "      <th>3</th>\n",
       "      <td>4</td>\n",
       "      <td>Feminine</td>\n",
       "      <td>Shirts and Blouses</td>\n",
       "      <td>Blusa De Algodão Básica</td>\n",
       "      <td>Basis -Baumwollbluse</td>\n",
       "      <td>Chemisier En Coton De Base</td>\n",
       "      <td>Blusa De Algodón</td>\n",
       "      <td>Basic Cotton Blouse</td>\n",
       "      <td>基本的棉衬衫</td>\n",
       "      <td>NaN</td>\n",
       "      <td>S|M|L|XL</td>\n",
       "      <td>14.62</td>\n",
       "    </tr>\n",
       "    <tr>\n",
       "      <th>4</th>\n",
       "      <td>5</td>\n",
       "      <td>Feminine</td>\n",
       "      <td>T-shirts and Tops</td>\n",
       "      <td>T-Shirt Básica De Algodão</td>\n",
       "      <td>Basis-Baumwoll-T-Shirt</td>\n",
       "      <td>T-Shirt En Coton De Base</td>\n",
       "      <td>Camiseta Básica De Algodón</td>\n",
       "      <td>Basic Cotton T-Shirt</td>\n",
       "      <td>基本棉T恤</td>\n",
       "      <td>NaN</td>\n",
       "      <td>S|M|L|XL</td>\n",
       "      <td>7.80</td>\n",
       "    </tr>\n",
       "  </tbody>\n",
       "</table>\n",
       "</div>"
      ],
      "text/plain": [
       "   Product ID  Category           Sub Category  \\\n",
       "0           1  Feminine      Coats and Blazers   \n",
       "1           2  Feminine  Sweaters and Knitwear   \n",
       "2           3  Feminine  Dresses and Jumpsuits   \n",
       "3           4  Feminine     Shirts and Blouses   \n",
       "4           5  Feminine      T-shirts and Tops   \n",
       "\n",
       "                      Description PT                     Description DE  \\\n",
       "0  Esportivo Veludo Verde Com Botões       Sport Samt Sport Mit Knöpfen   \n",
       "1      Luxuoso Denim Rosa Com Botões  Luxuriöser Rosa Jeans Mit Knöpfen   \n",
       "2       Retrô Tricot Preto Estampado     Black Tricot Gedruckter Tricot   \n",
       "3            Blusa De Algodão Básica               Basis -Baumwollbluse   \n",
       "4          T-Shirt Básica De Algodão             Basis-Baumwoll-T-Shirt   \n",
       "\n",
       "                          Description FR                      Description ES  \\\n",
       "0  Sports Velvet Sports Avec Des Boutons  Deportes De Terciopelo Con Botones   \n",
       "1     Léchard De Denim Rose Avec Boutons       Denim Rosa Lujoso Con Botones   \n",
       "2          Tricot Imprimé En Tricot Noir         Tricot Negro Tricot Impreso   \n",
       "3             Chemisier En Coton De Base                    Blusa De Algodón   \n",
       "4               T-Shirt En Coton De Base          Camiseta Básica De Algodón   \n",
       "\n",
       "                      Description EN Description ZH  Color     Sizes  \\\n",
       "0  Sports Velvet Sports With Buttons     运动天鹅绒运动与按钮    NaN  S|M|L|XL   \n",
       "1  Luxurious Pink Denim With Buttons   豪华的粉红色牛仔布和纽扣   PINK  S|M|L|XL   \n",
       "2        Black Tricot Printed Tricot     黑色三角形印刷三角形  BLACK     S|M|L   \n",
       "3                Basic Cotton Blouse         基本的棉衬衫    NaN  S|M|L|XL   \n",
       "4               Basic Cotton T-Shirt          基本棉T恤    NaN  S|M|L|XL   \n",
       "\n",
       "   Production Cost  \n",
       "0            41.68  \n",
       "1            15.07  \n",
       "2            19.56  \n",
       "3            14.62  \n",
       "4             7.80  "
      ]
     },
     "execution_count": 380,
     "metadata": {},
     "output_type": "execute_result"
    }
   ],
   "source": [
    "# products\n",
    "products.head()"
   ]
  },
  {
   "cell_type": "code",
   "execution_count": 381,
   "id": "0bdcc5ed-e6fd-46ec-bfe2-8dae5d37685e",
   "metadata": {},
   "outputs": [
    {
     "name": "stdout",
     "output_type": "stream",
     "text": [
      "<class 'pandas.core.frame.DataFrame'>\n",
      "RangeIndex: 14950 entries, 0 to 14949\n",
      "Data columns (total 4 columns):\n",
      " #   Column           Non-Null Count  Dtype  \n",
      "---  ------           --------------  -----  \n",
      " 0   Product ID       14950 non-null  int64  \n",
      " 1   Category         14950 non-null  object \n",
      " 2   Sub Category     14950 non-null  object \n",
      " 3   Production Cost  14950 non-null  float64\n",
      "dtypes: float64(1), int64(1), object(2)\n",
      "memory usage: 2.0 MB\n"
     ]
    }
   ],
   "source": [
    "# drop unuseful columns\n",
    "products = products.drop(products.columns[3:11], axis = 1)\n",
    "products.info(memory_usage = 'deep')"
   ]
  },
  {
   "cell_type": "code",
   "execution_count": 382,
   "id": "73dddb6e-7d4b-4d3b-9968-df95b2199de7",
   "metadata": {},
   "outputs": [
    {
     "data": {
      "text/plain": [
       "Product ID         0\n",
       "Category           0\n",
       "Sub Category       0\n",
       "Production Cost    0\n",
       "dtype: int64"
      ]
     },
     "execution_count": 382,
     "metadata": {},
     "output_type": "execute_result"
    }
   ],
   "source": [
    "products.isna().sum()"
   ]
  },
  {
   "cell_type": "code",
   "execution_count": 383,
   "id": "f79215aa-74e1-4144-a2fa-e266b532b17e",
   "metadata": {},
   "outputs": [
    {
     "data": {
      "text/html": [
       "<div>\n",
       "<style scoped>\n",
       "    .dataframe tbody tr th:only-of-type {\n",
       "        vertical-align: middle;\n",
       "    }\n",
       "\n",
       "    .dataframe tbody tr th {\n",
       "        vertical-align: top;\n",
       "    }\n",
       "\n",
       "    .dataframe thead th {\n",
       "        text-align: right;\n",
       "    }\n",
       "</style>\n",
       "<table border=\"1\" class=\"dataframe\">\n",
       "  <thead>\n",
       "    <tr style=\"text-align: right;\">\n",
       "      <th></th>\n",
       "      <th>Product ID</th>\n",
       "      <th>Production Cost</th>\n",
       "    </tr>\n",
       "  </thead>\n",
       "  <tbody>\n",
       "    <tr>\n",
       "      <th>count</th>\n",
       "      <td>14950.000000</td>\n",
       "      <td>14950.00000</td>\n",
       "    </tr>\n",
       "    <tr>\n",
       "      <th>mean</th>\n",
       "      <td>7475.500000</td>\n",
       "      <td>15.97553</td>\n",
       "    </tr>\n",
       "    <tr>\n",
       "      <th>std</th>\n",
       "      <td>4315.837597</td>\n",
       "      <td>11.36552</td>\n",
       "    </tr>\n",
       "    <tr>\n",
       "      <th>min</th>\n",
       "      <td>1.000000</td>\n",
       "      <td>0.54000</td>\n",
       "    </tr>\n",
       "    <tr>\n",
       "      <th>25%</th>\n",
       "      <td>3738.250000</td>\n",
       "      <td>7.84000</td>\n",
       "    </tr>\n",
       "    <tr>\n",
       "      <th>50%</th>\n",
       "      <td>7475.500000</td>\n",
       "      <td>13.21500</td>\n",
       "    </tr>\n",
       "    <tr>\n",
       "      <th>75%</th>\n",
       "      <td>11212.750000</td>\n",
       "      <td>20.72000</td>\n",
       "    </tr>\n",
       "    <tr>\n",
       "      <th>max</th>\n",
       "      <td>14950.000000</td>\n",
       "      <td>76.36000</td>\n",
       "    </tr>\n",
       "  </tbody>\n",
       "</table>\n",
       "</div>"
      ],
      "text/plain": [
       "         Product ID  Production Cost\n",
       "count  14950.000000      14950.00000\n",
       "mean    7475.500000         15.97553\n",
       "std     4315.837597         11.36552\n",
       "min        1.000000          0.54000\n",
       "25%     3738.250000          7.84000\n",
       "50%     7475.500000         13.21500\n",
       "75%    11212.750000         20.72000\n",
       "max    14950.000000         76.36000"
      ]
     },
     "execution_count": 383,
     "metadata": {},
     "output_type": "execute_result"
    }
   ],
   "source": [
    "products.describe()"
   ]
  },
  {
   "cell_type": "code",
   "execution_count": 384,
   "id": "9fbe841d-7a4a-431a-9198-fcbb3469b02a",
   "metadata": {},
   "outputs": [
    {
     "data": {
      "text/plain": [
       "21"
      ]
     },
     "execution_count": 384,
     "metadata": {},
     "output_type": "execute_result"
    }
   ],
   "source": [
    "products['Sub Category'].nunique()"
   ]
  },
  {
   "cell_type": "code",
   "execution_count": 385,
   "id": "986c4304-b986-490f-8a38-43a4320707a0",
   "metadata": {},
   "outputs": [
    {
     "name": "stdout",
     "output_type": "stream",
     "text": [
      "<class 'pandas.core.frame.DataFrame'>\n",
      "RangeIndex: 14950 entries, 0 to 14949\n",
      "Data columns (total 4 columns):\n",
      " #   Column           Non-Null Count  Dtype   \n",
      "---  ------           --------------  -----   \n",
      " 0   Product ID       14950 non-null  Int32   \n",
      " 1   Category         14950 non-null  category\n",
      " 2   Sub Category     14950 non-null  object  \n",
      " 3   Production Cost  14950 non-null  float64 \n",
      "dtypes: Int32(1), category(1), float64(1), object(1)\n",
      "memory usage: 1.1 MB\n"
     ]
    }
   ],
   "source": [
    "# convert columns to appropriate data type\n",
    "products = products.astype({'Product ID':'Int32', 'Category':'category'})\n",
    "products.info(memory_usage = 'deep')"
   ]
  },
  {
   "cell_type": "code",
   "execution_count": 386,
   "id": "0d03192f-452c-4f34-8c6e-4611878de748",
   "metadata": {},
   "outputs": [],
   "source": [
    "products.to_csv('products_c.csv', encoding = 'utf-8', index = False)"
   ]
  },
  {
   "cell_type": "code",
   "execution_count": 387,
   "id": "118a23b1-b8e3-4199-8271-4cd3ee2a1e6b",
   "metadata": {},
   "outputs": [
    {
     "data": {
      "text/html": [
       "<div>\n",
       "<style scoped>\n",
       "    .dataframe tbody tr th:only-of-type {\n",
       "        vertical-align: middle;\n",
       "    }\n",
       "\n",
       "    .dataframe tbody tr th {\n",
       "        vertical-align: top;\n",
       "    }\n",
       "\n",
       "    .dataframe thead th {\n",
       "        text-align: right;\n",
       "    }\n",
       "</style>\n",
       "<table border=\"1\" class=\"dataframe\">\n",
       "  <thead>\n",
       "    <tr style=\"text-align: right;\">\n",
       "      <th></th>\n",
       "      <th>Store ID</th>\n",
       "      <th>Country</th>\n",
       "      <th>City</th>\n",
       "      <th>Store Name</th>\n",
       "      <th>Number of Employees</th>\n",
       "      <th>ZIP Code</th>\n",
       "      <th>Latitude</th>\n",
       "      <th>Longitude</th>\n",
       "    </tr>\n",
       "  </thead>\n",
       "  <tbody>\n",
       "    <tr>\n",
       "      <th>0</th>\n",
       "      <td>1</td>\n",
       "      <td>United States</td>\n",
       "      <td>New York</td>\n",
       "      <td>Store New York</td>\n",
       "      <td>6</td>\n",
       "      <td>10001</td>\n",
       "      <td>40.7128</td>\n",
       "      <td>-74.0060</td>\n",
       "    </tr>\n",
       "    <tr>\n",
       "      <th>1</th>\n",
       "      <td>2</td>\n",
       "      <td>United States</td>\n",
       "      <td>Los Angeles</td>\n",
       "      <td>Store Los Angeles</td>\n",
       "      <td>9</td>\n",
       "      <td>90001</td>\n",
       "      <td>34.0522</td>\n",
       "      <td>-118.2437</td>\n",
       "    </tr>\n",
       "    <tr>\n",
       "      <th>2</th>\n",
       "      <td>3</td>\n",
       "      <td>United States</td>\n",
       "      <td>Chicago</td>\n",
       "      <td>Store Chicago</td>\n",
       "      <td>7</td>\n",
       "      <td>60601</td>\n",
       "      <td>41.8781</td>\n",
       "      <td>-87.6298</td>\n",
       "    </tr>\n",
       "    <tr>\n",
       "      <th>3</th>\n",
       "      <td>4</td>\n",
       "      <td>United States</td>\n",
       "      <td>Houston</td>\n",
       "      <td>Store Houston</td>\n",
       "      <td>7</td>\n",
       "      <td>77001</td>\n",
       "      <td>29.7604</td>\n",
       "      <td>-95.3698</td>\n",
       "    </tr>\n",
       "    <tr>\n",
       "      <th>4</th>\n",
       "      <td>5</td>\n",
       "      <td>United States</td>\n",
       "      <td>Phoenix</td>\n",
       "      <td>Store Phoenix</td>\n",
       "      <td>5</td>\n",
       "      <td>85001</td>\n",
       "      <td>33.4484</td>\n",
       "      <td>-112.0740</td>\n",
       "    </tr>\n",
       "  </tbody>\n",
       "</table>\n",
       "</div>"
      ],
      "text/plain": [
       "   Store ID        Country         City         Store Name  \\\n",
       "0         1  United States     New York     Store New York   \n",
       "1         2  United States  Los Angeles  Store Los Angeles   \n",
       "2         3  United States      Chicago      Store Chicago   \n",
       "3         4  United States      Houston      Store Houston   \n",
       "4         5  United States      Phoenix      Store Phoenix   \n",
       "\n",
       "   Number of Employees ZIP Code  Latitude  Longitude  \n",
       "0                    6    10001   40.7128   -74.0060  \n",
       "1                    9    90001   34.0522  -118.2437  \n",
       "2                    7    60601   41.8781   -87.6298  \n",
       "3                    7    77001   29.7604   -95.3698  \n",
       "4                    5    85001   33.4484  -112.0740  "
      ]
     },
     "execution_count": 387,
     "metadata": {},
     "output_type": "execute_result"
    }
   ],
   "source": [
    "# stores\n",
    "stores.head()"
   ]
  },
  {
   "cell_type": "code",
   "execution_count": 388,
   "id": "5ee1d804-e682-46eb-ae41-daa7c2373e8f",
   "metadata": {},
   "outputs": [
    {
     "name": "stdout",
     "output_type": "stream",
     "text": [
      "<class 'pandas.core.frame.DataFrame'>\n",
      "RangeIndex: 35 entries, 0 to 34\n",
      "Data columns (total 3 columns):\n",
      " #   Column               Non-Null Count  Dtype \n",
      "---  ------               --------------  ----- \n",
      " 0   Store ID             35 non-null     int64 \n",
      " 1   City                 35 non-null     object\n",
      " 2   Number of Employees  35 non-null     int64 \n",
      "dtypes: int64(2), object(1)\n",
      "memory usage: 2.7 KB\n"
     ]
    }
   ],
   "source": [
    "# reload csv file to specify columns\n",
    "stores = pd.read_csv('stores.csv', encoding = 'utf-8', usecols = ['Store ID', 'City', 'Number of Employees'])\n",
    "stores.info(memory_usage = 'deep')"
   ]
  },
  {
   "cell_type": "code",
   "execution_count": 389,
   "id": "26cb1ce5-67db-4576-9339-70c3a276a5db",
   "metadata": {},
   "outputs": [
    {
     "data": {
      "text/plain": [
       "Store ID               0\n",
       "City                   0\n",
       "Number of Employees    0\n",
       "dtype: int64"
      ]
     },
     "execution_count": 389,
     "metadata": {},
     "output_type": "execute_result"
    }
   ],
   "source": [
    "stores.isna().sum()"
   ]
  },
  {
   "cell_type": "code",
   "execution_count": 390,
   "id": "c2673a55-6d58-4ca9-a9b5-65331ac3f142",
   "metadata": {},
   "outputs": [
    {
     "data": {
      "text/html": [
       "<div>\n",
       "<style scoped>\n",
       "    .dataframe tbody tr th:only-of-type {\n",
       "        vertical-align: middle;\n",
       "    }\n",
       "\n",
       "    .dataframe tbody tr th {\n",
       "        vertical-align: top;\n",
       "    }\n",
       "\n",
       "    .dataframe thead th {\n",
       "        text-align: right;\n",
       "    }\n",
       "</style>\n",
       "<table border=\"1\" class=\"dataframe\">\n",
       "  <thead>\n",
       "    <tr style=\"text-align: right;\">\n",
       "      <th></th>\n",
       "      <th>Store ID</th>\n",
       "      <th>Number of Employees</th>\n",
       "    </tr>\n",
       "  </thead>\n",
       "  <tbody>\n",
       "    <tr>\n",
       "      <th>count</th>\n",
       "      <td>35.000000</td>\n",
       "      <td>35.000000</td>\n",
       "    </tr>\n",
       "    <tr>\n",
       "      <th>mean</th>\n",
       "      <td>18.000000</td>\n",
       "      <td>7.542857</td>\n",
       "    </tr>\n",
       "    <tr>\n",
       "      <th>std</th>\n",
       "      <td>10.246951</td>\n",
       "      <td>1.720856</td>\n",
       "    </tr>\n",
       "    <tr>\n",
       "      <th>min</th>\n",
       "      <td>1.000000</td>\n",
       "      <td>5.000000</td>\n",
       "    </tr>\n",
       "    <tr>\n",
       "      <th>25%</th>\n",
       "      <td>9.500000</td>\n",
       "      <td>6.000000</td>\n",
       "    </tr>\n",
       "    <tr>\n",
       "      <th>50%</th>\n",
       "      <td>18.000000</td>\n",
       "      <td>8.000000</td>\n",
       "    </tr>\n",
       "    <tr>\n",
       "      <th>75%</th>\n",
       "      <td>26.500000</td>\n",
       "      <td>9.000000</td>\n",
       "    </tr>\n",
       "    <tr>\n",
       "      <th>max</th>\n",
       "      <td>35.000000</td>\n",
       "      <td>10.000000</td>\n",
       "    </tr>\n",
       "  </tbody>\n",
       "</table>\n",
       "</div>"
      ],
      "text/plain": [
       "        Store ID  Number of Employees\n",
       "count  35.000000            35.000000\n",
       "mean   18.000000             7.542857\n",
       "std    10.246951             1.720856\n",
       "min     1.000000             5.000000\n",
       "25%     9.500000             6.000000\n",
       "50%    18.000000             8.000000\n",
       "75%    26.500000             9.000000\n",
       "max    35.000000            10.000000"
      ]
     },
     "execution_count": 390,
     "metadata": {},
     "output_type": "execute_result"
    }
   ],
   "source": [
    "stores.describe()"
   ]
  },
  {
   "cell_type": "code",
   "execution_count": 391,
   "id": "c5821546-03d1-4f9d-bcb2-e3601272724e",
   "metadata": {},
   "outputs": [
    {
     "name": "stdout",
     "output_type": "stream",
     "text": [
      "<class 'pandas.core.frame.DataFrame'>\n",
      "RangeIndex: 35 entries, 0 to 34\n",
      "Data columns (total 3 columns):\n",
      " #   Column               Non-Null Count  Dtype \n",
      "---  ------               --------------  ----- \n",
      " 0   Store ID             35 non-null     Int8  \n",
      " 1   City                 35 non-null     object\n",
      " 2   Number of Employees  35 non-null     Int8  \n",
      "dtypes: Int8(2), object(1)\n",
      "memory usage: 2.3 KB\n"
     ]
    }
   ],
   "source": [
    "stores = stores.astype({'Store ID':'Int8', 'Number of Employees':'Int8'})\n",
    "stores.info(memory_usage = 'deep')"
   ]
  },
  {
   "cell_type": "code",
   "execution_count": 392,
   "id": "44eb2937-3e20-4705-a2bf-51079f88df4b",
   "metadata": {},
   "outputs": [],
   "source": [
    "stores.to_csv('stores_c.csv', encoding = 'utf-8', index = False)"
   ]
  }
 ],
 "metadata": {
  "kernelspec": {
   "display_name": "Python 3 (ipykernel)",
   "language": "python",
   "name": "python3"
  },
  "language_info": {
   "codemirror_mode": {
    "name": "ipython",
    "version": 3
   },
   "file_extension": ".py",
   "mimetype": "text/x-python",
   "name": "python",
   "nbconvert_exporter": "python",
   "pygments_lexer": "ipython3",
   "version": "3.13.0"
  }
 },
 "nbformat": 4,
 "nbformat_minor": 5
}
